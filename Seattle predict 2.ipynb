{
 "cells": [
  {
   "cell_type": "code",
   "execution_count": 58,
   "metadata": {
    "ExecuteTime": {
     "end_time": "2022-05-05T13:45:52.370245Z",
     "start_time": "2022-05-05T13:45:52.346244Z"
    }
   },
   "outputs": [],
   "source": [
    "import pandas as pd\n",
    "import matplotlib.pyplot as plt\n",
    "import seaborn as sns\n",
    "import numpy as np\n",
    "import scipy\n",
    "import time\n",
    "import plotly.express as px\n",
    "from sklearn.model_selection import cross_validate\n",
    "from sklearn.model_selection import GridSearchCV\n",
    "from sklearn.model_selection import train_test_split\n",
    "from sklearn.preprocessing import OneHotEncoder\n",
    "from sklearn.model_selection import KFold\n",
    "from sklearn import preprocessing\n",
    "from sklearn import decomposition\n",
    "import sys\n",
    "if not sys.warnoptions:\n",
    "    import warnings\n",
    "    warnings.simplefilter(\"ignore\")\n",
    "\n",
    "# Modele\n",
    "from sklearn.neighbors import KNeighborsRegressor\n",
    "from sklearn.linear_model import ElasticNet\n",
    "from sklearn.ensemble import RandomForestRegressor\n",
    "from sklearn import linear_model\n",
    "from sklearn.linear_model import LinearRegression\n",
    "from sklearn.neural_network import MLPRegressor\n",
    "\n",
    "\n",
    "\n",
    "result = pd.read_csv('seattle_clean')"
   ]
  },
  {
   "cell_type": "markdown",
   "metadata": {},
   "source": [
    "## Récap info de nos données"
   ]
  },
  {
   "cell_type": "code",
   "execution_count": 59,
   "metadata": {
    "ExecuteTime": {
     "end_time": "2022-05-05T13:45:54.690249Z",
     "start_time": "2022-05-05T13:45:54.674241Z"
    }
   },
   "outputs": [
    {
     "name": "stdout",
     "output_type": "stream",
     "text": [
      "<class 'pandas.core.frame.DataFrame'>\n",
      "RangeIndex: 3307 entries, 0 to 3306\n",
      "Data columns (total 21 columns):\n",
      " #   Column                  Non-Null Count  Dtype  \n",
      "---  ------                  --------------  -----  \n",
      " 0   OSEBuildingID           3307 non-null   int64  \n",
      " 1   BuildingType            3307 non-null   object \n",
      " 2   PrimaryPropertyType     3307 non-null   object \n",
      " 3   PropertyName            3307 non-null   object \n",
      " 4   Neighborhood            3307 non-null   object \n",
      " 5   NumberofBuildings       3307 non-null   float64\n",
      " 6   NumberofFloors          3307 non-null   float64\n",
      " 7   PropertyGFATotal        3307 non-null   int64  \n",
      " 8   LargestPropertyUseType  3307 non-null   object \n",
      " 9   ENERGYSTARScore         2209 non-null   float64\n",
      " 10  SiteEnergyUseWN(kBtu)   3307 non-null   float64\n",
      " 11  SteamUse(kBtu)          3307 non-null   float64\n",
      " 12  Electricity(kBtu)       3307 non-null   float64\n",
      " 13  NaturalGas(kBtu)        3307 non-null   float64\n",
      " 14  TotalGHGEmissions       3307 non-null   float64\n",
      " 15  BuildingAge             3307 non-null   int64  \n",
      " 16  Nombre_utilisation      3307 non-null   int64  \n",
      " 17  Taux_Building           3307 non-null   float64\n",
      " 18  Taux_Parking            3307 non-null   float64\n",
      " 19  surface_batiment        3307 non-null   float64\n",
      " 20  surface_etage           3307 non-null   float64\n",
      "dtypes: float64(12), int64(4), object(5)\n",
      "memory usage: 542.7+ KB\n"
     ]
    }
   ],
   "source": [
    "result.info()"
   ]
  },
  {
   "cell_type": "markdown",
   "metadata": {},
   "source": [
    "Le but de notre programme est de supprimer les relevés couteux pour les années à venir. Nous allons donc exclure toutes les données de relève de notre dataset."
   ]
  },
  {
   "cell_type": "code",
   "execution_count": 60,
   "metadata": {
    "ExecuteTime": {
     "end_time": "2022-05-05T13:45:56.914258Z",
     "start_time": "2022-05-05T13:45:56.898244Z"
    }
   },
   "outputs": [],
   "source": [
    "result = result.drop(columns={'SteamUse(kBtu)',\n",
    "                              'Electricity(kBtu)',\n",
    "                              'NaturalGas(kBtu)'})"
   ]
  },
  {
   "cell_type": "markdown",
   "metadata": {},
   "source": [
    "## Selection des variables numériques et catégorielles"
   ]
  },
  {
   "cell_type": "code",
   "execution_count": 61,
   "metadata": {
    "ExecuteTime": {
     "end_time": "2022-05-05T13:45:58.870258Z",
     "start_time": "2022-05-05T13:45:58.858247Z"
    }
   },
   "outputs": [],
   "source": [
    "variables_cat = result.select_dtypes(exclude=['int64','float64'])\n",
    "variables_num = result.select_dtypes(include=['int64','float64'])\n"
   ]
  },
  {
   "cell_type": "code",
   "execution_count": 62,
   "metadata": {
    "ExecuteTime": {
     "end_time": "2022-05-05T13:46:00.678136Z",
     "start_time": "2022-05-05T13:46:00.662182Z"
    }
   },
   "outputs": [
    {
     "data": {
      "text/plain": [
       "BuildingType                 5\n",
       "PrimaryPropertyType         24\n",
       "PropertyName              3194\n",
       "Neighborhood                14\n",
       "LargestPropertyUseType      58\n",
       "dtype: int64"
      ]
     },
     "execution_count": 62,
     "metadata": {},
     "output_type": "execute_result"
    }
   ],
   "source": [
    "variables_cat.nunique()"
   ]
  },
  {
   "cell_type": "markdown",
   "metadata": {},
   "source": [
    "Sur ces variables de catégorie, le nom du batiment ne sera d'aucune utilité"
   ]
  },
  {
   "cell_type": "code",
   "execution_count": 63,
   "metadata": {
    "ExecuteTime": {
     "end_time": "2022-05-05T13:46:02.662131Z",
     "start_time": "2022-05-05T13:46:02.646130Z"
    }
   },
   "outputs": [],
   "source": [
    "result = result.drop(columns={'PropertyName'})"
   ]
  },
  {
   "cell_type": "code",
   "execution_count": 64,
   "metadata": {
    "ExecuteTime": {
     "end_time": "2022-05-05T13:46:04.366167Z",
     "start_time": "2022-05-05T13:46:04.350129Z"
    },
    "scrolled": true
   },
   "outputs": [
    {
     "data": {
      "text/plain": [
       "OSEBuildingID            1697\n",
       "NumberofBuildings          17\n",
       "NumberofFloors             44\n",
       "PropertyGFATotal         1666\n",
       "ENERGYSTARScore           100\n",
       "SiteEnergyUseWN(kBtu)    3271\n",
       "TotalGHGEmissions        3012\n",
       "BuildingAge               115\n",
       "Nombre_utilisation         11\n",
       "Taux_Building             380\n",
       "Taux_Parking              380\n",
       "surface_batiment         1714\n",
       "surface_etage            1705\n",
       "dtype: int64"
      ]
     },
     "execution_count": 64,
     "metadata": {},
     "output_type": "execute_result"
    }
   ],
   "source": [
    "variables_num.nunique()"
   ]
  },
  {
   "cell_type": "markdown",
   "metadata": {},
   "source": [
    "il peut être interessant de savoir si le EnergyStarScore a une influence sur les emission et l'energy utilisés. Je garde ces données, mais je les mets de coté pour ne pas influencer les predictions"
   ]
  },
  {
   "cell_type": "code",
   "execution_count": 65,
   "metadata": {
    "ExecuteTime": {
     "end_time": "2022-05-05T13:46:07.621503Z",
     "start_time": "2022-05-05T13:46:07.613466Z"
    }
   },
   "outputs": [],
   "source": [
    "result_EnergyStar = result['ENERGYSTARScore']\n",
    "result_num = result.drop(columns={'ENERGYSTARScore'})"
   ]
  },
  {
   "cell_type": "markdown",
   "metadata": {},
   "source": [
    "## Encoder pour les variables catégorielles"
   ]
  },
  {
   "cell_type": "code",
   "execution_count": 66,
   "metadata": {
    "ExecuteTime": {
     "end_time": "2022-05-05T13:46:09.420945Z",
     "start_time": "2022-05-05T13:46:09.404962Z"
    }
   },
   "outputs": [],
   "source": [
    "result_Encoder = result_num[['BuildingType', 'Neighborhood', 'PrimaryPropertyType']]\n",
    "lb = OneHotEncoder()\n",
    "one_hot = lb.fit_transform(result_Encoder)# pour les Types de batiments\n",
    "lb.get_feature_names(['BuildingType', 'Neighborhood', 'PrimaryPropertyType'])\n",
    "one_hot = one_hot.toarray()\n",
    "one_hot = pd.DataFrame(one_hot, columns=lb.get_feature_names(['BuildingType', 'Neighborhood', 'PrimaryPropertyType']))"
   ]
  },
  {
   "cell_type": "code",
   "execution_count": 67,
   "metadata": {
    "ExecuteTime": {
     "end_time": "2022-05-05T13:46:11.288938Z",
     "start_time": "2022-05-05T13:46:11.272990Z"
    }
   },
   "outputs": [],
   "source": [
    "result_num =  pd.concat([result_num, one_hot], axis=1)"
   ]
  },
  {
   "cell_type": "code",
   "execution_count": 68,
   "metadata": {
    "ExecuteTime": {
     "end_time": "2022-05-05T13:46:13.224963Z",
     "start_time": "2022-05-05T13:46:13.192961Z"
    }
   },
   "outputs": [
    {
     "data": {
      "text/html": [
       "<div>\n",
       "<style scoped>\n",
       "    .dataframe tbody tr th:only-of-type {\n",
       "        vertical-align: middle;\n",
       "    }\n",
       "\n",
       "    .dataframe tbody tr th {\n",
       "        vertical-align: top;\n",
       "    }\n",
       "\n",
       "    .dataframe thead th {\n",
       "        text-align: right;\n",
       "    }\n",
       "</style>\n",
       "<table border=\"1\" class=\"dataframe\">\n",
       "  <thead>\n",
       "    <tr style=\"text-align: right;\">\n",
       "      <th></th>\n",
       "      <th>OSEBuildingID</th>\n",
       "      <th>BuildingType</th>\n",
       "      <th>PrimaryPropertyType</th>\n",
       "      <th>Neighborhood</th>\n",
       "      <th>NumberofBuildings</th>\n",
       "      <th>NumberofFloors</th>\n",
       "      <th>PropertyGFATotal</th>\n",
       "      <th>LargestPropertyUseType</th>\n",
       "      <th>SiteEnergyUseWN(kBtu)</th>\n",
       "      <th>TotalGHGEmissions</th>\n",
       "      <th>...</th>\n",
       "      <th>PrimaryPropertyType_Residence Hall</th>\n",
       "      <th>PrimaryPropertyType_Residence Hall/Dormitory</th>\n",
       "      <th>PrimaryPropertyType_Restaurant</th>\n",
       "      <th>PrimaryPropertyType_Retail Store</th>\n",
       "      <th>PrimaryPropertyType_Self-Storage Facility</th>\n",
       "      <th>PrimaryPropertyType_Senior Care Community</th>\n",
       "      <th>PrimaryPropertyType_Small- and Mid-Sized Office</th>\n",
       "      <th>PrimaryPropertyType_Supermarket/Grocery Store</th>\n",
       "      <th>PrimaryPropertyType_Warehouse</th>\n",
       "      <th>PrimaryPropertyType_Worship Facility</th>\n",
       "    </tr>\n",
       "  </thead>\n",
       "  <tbody>\n",
       "    <tr>\n",
       "      <th>0</th>\n",
       "      <td>1</td>\n",
       "      <td>NonResidential</td>\n",
       "      <td>Hotel</td>\n",
       "      <td>DOWNTOWN</td>\n",
       "      <td>1.0</td>\n",
       "      <td>12.0</td>\n",
       "      <td>88434</td>\n",
       "      <td>Hotel</td>\n",
       "      <td>7.097539e+06</td>\n",
       "      <td>249.43</td>\n",
       "      <td>...</td>\n",
       "      <td>0.0</td>\n",
       "      <td>0.0</td>\n",
       "      <td>0.0</td>\n",
       "      <td>0.0</td>\n",
       "      <td>0.0</td>\n",
       "      <td>0.0</td>\n",
       "      <td>0.0</td>\n",
       "      <td>0.0</td>\n",
       "      <td>0.0</td>\n",
       "      <td>0.0</td>\n",
       "    </tr>\n",
       "    <tr>\n",
       "      <th>1</th>\n",
       "      <td>2</td>\n",
       "      <td>NonResidential</td>\n",
       "      <td>Hotel</td>\n",
       "      <td>DOWNTOWN</td>\n",
       "      <td>1.0</td>\n",
       "      <td>11.0</td>\n",
       "      <td>103566</td>\n",
       "      <td>Hotel</td>\n",
       "      <td>8.765788e+06</td>\n",
       "      <td>263.51</td>\n",
       "      <td>...</td>\n",
       "      <td>0.0</td>\n",
       "      <td>0.0</td>\n",
       "      <td>0.0</td>\n",
       "      <td>0.0</td>\n",
       "      <td>0.0</td>\n",
       "      <td>0.0</td>\n",
       "      <td>0.0</td>\n",
       "      <td>0.0</td>\n",
       "      <td>0.0</td>\n",
       "      <td>0.0</td>\n",
       "    </tr>\n",
       "    <tr>\n",
       "      <th>2</th>\n",
       "      <td>3</td>\n",
       "      <td>NonResidential</td>\n",
       "      <td>Hotel</td>\n",
       "      <td>DOWNTOWN</td>\n",
       "      <td>1.0</td>\n",
       "      <td>41.0</td>\n",
       "      <td>961990</td>\n",
       "      <td>Hotel</td>\n",
       "      <td>7.550627e+07</td>\n",
       "      <td>2061.48</td>\n",
       "      <td>...</td>\n",
       "      <td>0.0</td>\n",
       "      <td>0.0</td>\n",
       "      <td>0.0</td>\n",
       "      <td>0.0</td>\n",
       "      <td>0.0</td>\n",
       "      <td>0.0</td>\n",
       "      <td>0.0</td>\n",
       "      <td>0.0</td>\n",
       "      <td>0.0</td>\n",
       "      <td>0.0</td>\n",
       "    </tr>\n",
       "    <tr>\n",
       "      <th>3</th>\n",
       "      <td>5</td>\n",
       "      <td>NonResidential</td>\n",
       "      <td>Hotel</td>\n",
       "      <td>DOWNTOWN</td>\n",
       "      <td>1.0</td>\n",
       "      <td>10.0</td>\n",
       "      <td>61320</td>\n",
       "      <td>Hotel</td>\n",
       "      <td>2.836344e+07</td>\n",
       "      <td>1936.34</td>\n",
       "      <td>...</td>\n",
       "      <td>0.0</td>\n",
       "      <td>0.0</td>\n",
       "      <td>0.0</td>\n",
       "      <td>0.0</td>\n",
       "      <td>0.0</td>\n",
       "      <td>0.0</td>\n",
       "      <td>0.0</td>\n",
       "      <td>0.0</td>\n",
       "      <td>0.0</td>\n",
       "      <td>0.0</td>\n",
       "    </tr>\n",
       "    <tr>\n",
       "      <th>4</th>\n",
       "      <td>8</td>\n",
       "      <td>NonResidential</td>\n",
       "      <td>Hotel</td>\n",
       "      <td>DOWNTOWN</td>\n",
       "      <td>1.0</td>\n",
       "      <td>18.0</td>\n",
       "      <td>119890</td>\n",
       "      <td>Hotel</td>\n",
       "      <td>1.507824e+07</td>\n",
       "      <td>507.70</td>\n",
       "      <td>...</td>\n",
       "      <td>0.0</td>\n",
       "      <td>0.0</td>\n",
       "      <td>0.0</td>\n",
       "      <td>0.0</td>\n",
       "      <td>0.0</td>\n",
       "      <td>0.0</td>\n",
       "      <td>0.0</td>\n",
       "      <td>0.0</td>\n",
       "      <td>0.0</td>\n",
       "      <td>0.0</td>\n",
       "    </tr>\n",
       "    <tr>\n",
       "      <th>...</th>\n",
       "      <td>...</td>\n",
       "      <td>...</td>\n",
       "      <td>...</td>\n",
       "      <td>...</td>\n",
       "      <td>...</td>\n",
       "      <td>...</td>\n",
       "      <td>...</td>\n",
       "      <td>...</td>\n",
       "      <td>...</td>\n",
       "      <td>...</td>\n",
       "      <td>...</td>\n",
       "      <td>...</td>\n",
       "      <td>...</td>\n",
       "      <td>...</td>\n",
       "      <td>...</td>\n",
       "      <td>...</td>\n",
       "      <td>...</td>\n",
       "      <td>...</td>\n",
       "      <td>...</td>\n",
       "      <td>...</td>\n",
       "      <td>...</td>\n",
       "    </tr>\n",
       "    <tr>\n",
       "      <th>3302</th>\n",
       "      <td>50222</td>\n",
       "      <td>Nonresidential COS</td>\n",
       "      <td>Office</td>\n",
       "      <td>GREATER DUWAMISH</td>\n",
       "      <td>1.0</td>\n",
       "      <td>1.0</td>\n",
       "      <td>12294</td>\n",
       "      <td>Office</td>\n",
       "      <td>9.430032e+05</td>\n",
       "      <td>20.94</td>\n",
       "      <td>...</td>\n",
       "      <td>0.0</td>\n",
       "      <td>0.0</td>\n",
       "      <td>0.0</td>\n",
       "      <td>0.0</td>\n",
       "      <td>0.0</td>\n",
       "      <td>0.0</td>\n",
       "      <td>0.0</td>\n",
       "      <td>0.0</td>\n",
       "      <td>0.0</td>\n",
       "      <td>0.0</td>\n",
       "    </tr>\n",
       "    <tr>\n",
       "      <th>3303</th>\n",
       "      <td>50223</td>\n",
       "      <td>Nonresidential COS</td>\n",
       "      <td>Other</td>\n",
       "      <td>DOWNTOWN</td>\n",
       "      <td>1.0</td>\n",
       "      <td>1.0</td>\n",
       "      <td>16000</td>\n",
       "      <td>Other - Recreation</td>\n",
       "      <td>1.053706e+06</td>\n",
       "      <td>32.17</td>\n",
       "      <td>...</td>\n",
       "      <td>0.0</td>\n",
       "      <td>0.0</td>\n",
       "      <td>0.0</td>\n",
       "      <td>0.0</td>\n",
       "      <td>0.0</td>\n",
       "      <td>0.0</td>\n",
       "      <td>0.0</td>\n",
       "      <td>0.0</td>\n",
       "      <td>0.0</td>\n",
       "      <td>0.0</td>\n",
       "    </tr>\n",
       "    <tr>\n",
       "      <th>3304</th>\n",
       "      <td>50224</td>\n",
       "      <td>Nonresidential COS</td>\n",
       "      <td>Other</td>\n",
       "      <td>MAGNOLIA / QUEEN ANNE</td>\n",
       "      <td>1.0</td>\n",
       "      <td>1.0</td>\n",
       "      <td>13157</td>\n",
       "      <td>Other - Recreation</td>\n",
       "      <td>6.053764e+06</td>\n",
       "      <td>223.54</td>\n",
       "      <td>...</td>\n",
       "      <td>0.0</td>\n",
       "      <td>0.0</td>\n",
       "      <td>0.0</td>\n",
       "      <td>0.0</td>\n",
       "      <td>0.0</td>\n",
       "      <td>0.0</td>\n",
       "      <td>0.0</td>\n",
       "      <td>0.0</td>\n",
       "      <td>0.0</td>\n",
       "      <td>0.0</td>\n",
       "    </tr>\n",
       "    <tr>\n",
       "      <th>3305</th>\n",
       "      <td>50225</td>\n",
       "      <td>Nonresidential COS</td>\n",
       "      <td>Mixed Use Property</td>\n",
       "      <td>GREATER DUWAMISH</td>\n",
       "      <td>1.0</td>\n",
       "      <td>1.0</td>\n",
       "      <td>14101</td>\n",
       "      <td>Other - Recreation</td>\n",
       "      <td>7.828413e+05</td>\n",
       "      <td>22.11</td>\n",
       "      <td>...</td>\n",
       "      <td>0.0</td>\n",
       "      <td>0.0</td>\n",
       "      <td>0.0</td>\n",
       "      <td>0.0</td>\n",
       "      <td>0.0</td>\n",
       "      <td>0.0</td>\n",
       "      <td>0.0</td>\n",
       "      <td>0.0</td>\n",
       "      <td>0.0</td>\n",
       "      <td>0.0</td>\n",
       "    </tr>\n",
       "    <tr>\n",
       "      <th>3306</th>\n",
       "      <td>50226</td>\n",
       "      <td>Nonresidential COS</td>\n",
       "      <td>Mixed Use Property</td>\n",
       "      <td>GREATER DUWAMISH</td>\n",
       "      <td>1.0</td>\n",
       "      <td>1.0</td>\n",
       "      <td>18258</td>\n",
       "      <td>Other - Recreation</td>\n",
       "      <td>1.293722e+06</td>\n",
       "      <td>41.27</td>\n",
       "      <td>...</td>\n",
       "      <td>0.0</td>\n",
       "      <td>0.0</td>\n",
       "      <td>0.0</td>\n",
       "      <td>0.0</td>\n",
       "      <td>0.0</td>\n",
       "      <td>0.0</td>\n",
       "      <td>0.0</td>\n",
       "      <td>0.0</td>\n",
       "      <td>0.0</td>\n",
       "      <td>0.0</td>\n",
       "    </tr>\n",
       "  </tbody>\n",
       "</table>\n",
       "<p>3307 rows × 59 columns</p>\n",
       "</div>"
      ],
      "text/plain": [
       "      OSEBuildingID        BuildingType PrimaryPropertyType  \\\n",
       "0                 1      NonResidential               Hotel   \n",
       "1                 2      NonResidential               Hotel   \n",
       "2                 3      NonResidential               Hotel   \n",
       "3                 5      NonResidential               Hotel   \n",
       "4                 8      NonResidential               Hotel   \n",
       "...             ...                 ...                 ...   \n",
       "3302          50222  Nonresidential COS              Office   \n",
       "3303          50223  Nonresidential COS               Other   \n",
       "3304          50224  Nonresidential COS               Other   \n",
       "3305          50225  Nonresidential COS  Mixed Use Property   \n",
       "3306          50226  Nonresidential COS  Mixed Use Property   \n",
       "\n",
       "               Neighborhood  NumberofBuildings  NumberofFloors  \\\n",
       "0                  DOWNTOWN                1.0            12.0   \n",
       "1                  DOWNTOWN                1.0            11.0   \n",
       "2                  DOWNTOWN                1.0            41.0   \n",
       "3                  DOWNTOWN                1.0            10.0   \n",
       "4                  DOWNTOWN                1.0            18.0   \n",
       "...                     ...                ...             ...   \n",
       "3302       GREATER DUWAMISH                1.0             1.0   \n",
       "3303               DOWNTOWN                1.0             1.0   \n",
       "3304  MAGNOLIA / QUEEN ANNE                1.0             1.0   \n",
       "3305       GREATER DUWAMISH                1.0             1.0   \n",
       "3306       GREATER DUWAMISH                1.0             1.0   \n",
       "\n",
       "      PropertyGFATotal LargestPropertyUseType  SiteEnergyUseWN(kBtu)  \\\n",
       "0                88434                  Hotel           7.097539e+06   \n",
       "1               103566                  Hotel           8.765788e+06   \n",
       "2               961990                  Hotel           7.550627e+07   \n",
       "3                61320                  Hotel           2.836344e+07   \n",
       "4               119890                  Hotel           1.507824e+07   \n",
       "...                ...                    ...                    ...   \n",
       "3302             12294                 Office           9.430032e+05   \n",
       "3303             16000     Other - Recreation           1.053706e+06   \n",
       "3304             13157     Other - Recreation           6.053764e+06   \n",
       "3305             14101     Other - Recreation           7.828413e+05   \n",
       "3306             18258     Other - Recreation           1.293722e+06   \n",
       "\n",
       "      TotalGHGEmissions  ...  PrimaryPropertyType_Residence Hall  \\\n",
       "0                249.43  ...                                 0.0   \n",
       "1                263.51  ...                                 0.0   \n",
       "2               2061.48  ...                                 0.0   \n",
       "3               1936.34  ...                                 0.0   \n",
       "4                507.70  ...                                 0.0   \n",
       "...                 ...  ...                                 ...   \n",
       "3302              20.94  ...                                 0.0   \n",
       "3303              32.17  ...                                 0.0   \n",
       "3304             223.54  ...                                 0.0   \n",
       "3305              22.11  ...                                 0.0   \n",
       "3306              41.27  ...                                 0.0   \n",
       "\n",
       "      PrimaryPropertyType_Residence Hall/Dormitory  \\\n",
       "0                                              0.0   \n",
       "1                                              0.0   \n",
       "2                                              0.0   \n",
       "3                                              0.0   \n",
       "4                                              0.0   \n",
       "...                                            ...   \n",
       "3302                                           0.0   \n",
       "3303                                           0.0   \n",
       "3304                                           0.0   \n",
       "3305                                           0.0   \n",
       "3306                                           0.0   \n",
       "\n",
       "      PrimaryPropertyType_Restaurant  PrimaryPropertyType_Retail Store  \\\n",
       "0                                0.0                               0.0   \n",
       "1                                0.0                               0.0   \n",
       "2                                0.0                               0.0   \n",
       "3                                0.0                               0.0   \n",
       "4                                0.0                               0.0   \n",
       "...                              ...                               ...   \n",
       "3302                             0.0                               0.0   \n",
       "3303                             0.0                               0.0   \n",
       "3304                             0.0                               0.0   \n",
       "3305                             0.0                               0.0   \n",
       "3306                             0.0                               0.0   \n",
       "\n",
       "      PrimaryPropertyType_Self-Storage Facility  \\\n",
       "0                                           0.0   \n",
       "1                                           0.0   \n",
       "2                                           0.0   \n",
       "3                                           0.0   \n",
       "4                                           0.0   \n",
       "...                                         ...   \n",
       "3302                                        0.0   \n",
       "3303                                        0.0   \n",
       "3304                                        0.0   \n",
       "3305                                        0.0   \n",
       "3306                                        0.0   \n",
       "\n",
       "      PrimaryPropertyType_Senior Care Community  \\\n",
       "0                                           0.0   \n",
       "1                                           0.0   \n",
       "2                                           0.0   \n",
       "3                                           0.0   \n",
       "4                                           0.0   \n",
       "...                                         ...   \n",
       "3302                                        0.0   \n",
       "3303                                        0.0   \n",
       "3304                                        0.0   \n",
       "3305                                        0.0   \n",
       "3306                                        0.0   \n",
       "\n",
       "      PrimaryPropertyType_Small- and Mid-Sized Office  \\\n",
       "0                                                 0.0   \n",
       "1                                                 0.0   \n",
       "2                                                 0.0   \n",
       "3                                                 0.0   \n",
       "4                                                 0.0   \n",
       "...                                               ...   \n",
       "3302                                              0.0   \n",
       "3303                                              0.0   \n",
       "3304                                              0.0   \n",
       "3305                                              0.0   \n",
       "3306                                              0.0   \n",
       "\n",
       "      PrimaryPropertyType_Supermarket/Grocery Store  \\\n",
       "0                                               0.0   \n",
       "1                                               0.0   \n",
       "2                                               0.0   \n",
       "3                                               0.0   \n",
       "4                                               0.0   \n",
       "...                                             ...   \n",
       "3302                                            0.0   \n",
       "3303                                            0.0   \n",
       "3304                                            0.0   \n",
       "3305                                            0.0   \n",
       "3306                                            0.0   \n",
       "\n",
       "      PrimaryPropertyType_Warehouse  PrimaryPropertyType_Worship Facility  \n",
       "0                               0.0                                   0.0  \n",
       "1                               0.0                                   0.0  \n",
       "2                               0.0                                   0.0  \n",
       "3                               0.0                                   0.0  \n",
       "4                               0.0                                   0.0  \n",
       "...                             ...                                   ...  \n",
       "3302                            0.0                                   0.0  \n",
       "3303                            0.0                                   0.0  \n",
       "3304                            0.0                                   0.0  \n",
       "3305                            0.0                                   0.0  \n",
       "3306                            0.0                                   0.0  \n",
       "\n",
       "[3307 rows x 59 columns]"
      ]
     },
     "execution_count": 68,
     "metadata": {},
     "output_type": "execute_result"
    }
   ],
   "source": [
    "result_num"
   ]
  },
  {
   "cell_type": "code",
   "execution_count": 69,
   "metadata": {
    "ExecuteTime": {
     "end_time": "2022-05-05T13:46:15.277339Z",
     "start_time": "2022-05-05T13:46:15.232964Z"
    }
   },
   "outputs": [
    {
     "data": {
      "text/html": [
       "<div>\n",
       "<style scoped>\n",
       "    .dataframe tbody tr th:only-of-type {\n",
       "        vertical-align: middle;\n",
       "    }\n",
       "\n",
       "    .dataframe tbody tr th {\n",
       "        vertical-align: top;\n",
       "    }\n",
       "\n",
       "    .dataframe thead th {\n",
       "        text-align: right;\n",
       "    }\n",
       "</style>\n",
       "<table border=\"1\" class=\"dataframe\">\n",
       "  <thead>\n",
       "    <tr style=\"text-align: right;\">\n",
       "      <th></th>\n",
       "      <th>OSEBuildingID</th>\n",
       "      <th>NumberofBuildings</th>\n",
       "      <th>NumberofFloors</th>\n",
       "      <th>PropertyGFATotal</th>\n",
       "      <th>SiteEnergyUseWN(kBtu)</th>\n",
       "      <th>TotalGHGEmissions</th>\n",
       "      <th>BuildingAge</th>\n",
       "      <th>Nombre_utilisation</th>\n",
       "      <th>Taux_Building</th>\n",
       "      <th>Taux_Parking</th>\n",
       "      <th>...</th>\n",
       "      <th>PrimaryPropertyType_Residence Hall</th>\n",
       "      <th>PrimaryPropertyType_Residence Hall/Dormitory</th>\n",
       "      <th>PrimaryPropertyType_Restaurant</th>\n",
       "      <th>PrimaryPropertyType_Retail Store</th>\n",
       "      <th>PrimaryPropertyType_Self-Storage Facility</th>\n",
       "      <th>PrimaryPropertyType_Senior Care Community</th>\n",
       "      <th>PrimaryPropertyType_Small- and Mid-Sized Office</th>\n",
       "      <th>PrimaryPropertyType_Supermarket/Grocery Store</th>\n",
       "      <th>PrimaryPropertyType_Warehouse</th>\n",
       "      <th>PrimaryPropertyType_Worship Facility</th>\n",
       "    </tr>\n",
       "  </thead>\n",
       "  <tbody>\n",
       "    <tr>\n",
       "      <th>0</th>\n",
       "      <td>1</td>\n",
       "      <td>1.0</td>\n",
       "      <td>12.0</td>\n",
       "      <td>88434</td>\n",
       "      <td>7.097539e+06</td>\n",
       "      <td>249.43</td>\n",
       "      <td>88</td>\n",
       "      <td>1</td>\n",
       "      <td>1.00000</td>\n",
       "      <td>0.00000</td>\n",
       "      <td>...</td>\n",
       "      <td>0.0</td>\n",
       "      <td>0.0</td>\n",
       "      <td>0.0</td>\n",
       "      <td>0.0</td>\n",
       "      <td>0.0</td>\n",
       "      <td>0.0</td>\n",
       "      <td>0.0</td>\n",
       "      <td>0.0</td>\n",
       "      <td>0.0</td>\n",
       "      <td>0.0</td>\n",
       "    </tr>\n",
       "    <tr>\n",
       "      <th>1</th>\n",
       "      <td>2</td>\n",
       "      <td>1.0</td>\n",
       "      <td>11.0</td>\n",
       "      <td>103566</td>\n",
       "      <td>8.765788e+06</td>\n",
       "      <td>263.51</td>\n",
       "      <td>19</td>\n",
       "      <td>3</td>\n",
       "      <td>0.85455</td>\n",
       "      <td>0.14545</td>\n",
       "      <td>...</td>\n",
       "      <td>0.0</td>\n",
       "      <td>0.0</td>\n",
       "      <td>0.0</td>\n",
       "      <td>0.0</td>\n",
       "      <td>0.0</td>\n",
       "      <td>0.0</td>\n",
       "      <td>0.0</td>\n",
       "      <td>0.0</td>\n",
       "      <td>0.0</td>\n",
       "      <td>0.0</td>\n",
       "    </tr>\n",
       "    <tr>\n",
       "      <th>2</th>\n",
       "      <td>3</td>\n",
       "      <td>1.0</td>\n",
       "      <td>41.0</td>\n",
       "      <td>961990</td>\n",
       "      <td>7.550627e+07</td>\n",
       "      <td>2061.48</td>\n",
       "      <td>46</td>\n",
       "      <td>3</td>\n",
       "      <td>1.00000</td>\n",
       "      <td>0.00000</td>\n",
       "      <td>...</td>\n",
       "      <td>0.0</td>\n",
       "      <td>0.0</td>\n",
       "      <td>0.0</td>\n",
       "      <td>0.0</td>\n",
       "      <td>0.0</td>\n",
       "      <td>0.0</td>\n",
       "      <td>0.0</td>\n",
       "      <td>0.0</td>\n",
       "      <td>0.0</td>\n",
       "      <td>0.0</td>\n",
       "    </tr>\n",
       "    <tr>\n",
       "      <th>3</th>\n",
       "      <td>5</td>\n",
       "      <td>1.0</td>\n",
       "      <td>10.0</td>\n",
       "      <td>61320</td>\n",
       "      <td>2.836344e+07</td>\n",
       "      <td>1936.34</td>\n",
       "      <td>89</td>\n",
       "      <td>1</td>\n",
       "      <td>1.00000</td>\n",
       "      <td>0.00000</td>\n",
       "      <td>...</td>\n",
       "      <td>0.0</td>\n",
       "      <td>0.0</td>\n",
       "      <td>0.0</td>\n",
       "      <td>0.0</td>\n",
       "      <td>0.0</td>\n",
       "      <td>0.0</td>\n",
       "      <td>0.0</td>\n",
       "      <td>0.0</td>\n",
       "      <td>0.0</td>\n",
       "      <td>0.0</td>\n",
       "    </tr>\n",
       "    <tr>\n",
       "      <th>4</th>\n",
       "      <td>8</td>\n",
       "      <td>1.0</td>\n",
       "      <td>18.0</td>\n",
       "      <td>119890</td>\n",
       "      <td>1.507824e+07</td>\n",
       "      <td>507.70</td>\n",
       "      <td>35</td>\n",
       "      <td>3</td>\n",
       "      <td>0.89607</td>\n",
       "      <td>0.10393</td>\n",
       "      <td>...</td>\n",
       "      <td>0.0</td>\n",
       "      <td>0.0</td>\n",
       "      <td>0.0</td>\n",
       "      <td>0.0</td>\n",
       "      <td>0.0</td>\n",
       "      <td>0.0</td>\n",
       "      <td>0.0</td>\n",
       "      <td>0.0</td>\n",
       "      <td>0.0</td>\n",
       "      <td>0.0</td>\n",
       "    </tr>\n",
       "    <tr>\n",
       "      <th>...</th>\n",
       "      <td>...</td>\n",
       "      <td>...</td>\n",
       "      <td>...</td>\n",
       "      <td>...</td>\n",
       "      <td>...</td>\n",
       "      <td>...</td>\n",
       "      <td>...</td>\n",
       "      <td>...</td>\n",
       "      <td>...</td>\n",
       "      <td>...</td>\n",
       "      <td>...</td>\n",
       "      <td>...</td>\n",
       "      <td>...</td>\n",
       "      <td>...</td>\n",
       "      <td>...</td>\n",
       "      <td>...</td>\n",
       "      <td>...</td>\n",
       "      <td>...</td>\n",
       "      <td>...</td>\n",
       "      <td>...</td>\n",
       "      <td>...</td>\n",
       "    </tr>\n",
       "    <tr>\n",
       "      <th>3302</th>\n",
       "      <td>50222</td>\n",
       "      <td>1.0</td>\n",
       "      <td>1.0</td>\n",
       "      <td>12294</td>\n",
       "      <td>9.430032e+05</td>\n",
       "      <td>20.94</td>\n",
       "      <td>26</td>\n",
       "      <td>1</td>\n",
       "      <td>1.00000</td>\n",
       "      <td>0.00000</td>\n",
       "      <td>...</td>\n",
       "      <td>0.0</td>\n",
       "      <td>0.0</td>\n",
       "      <td>0.0</td>\n",
       "      <td>0.0</td>\n",
       "      <td>0.0</td>\n",
       "      <td>0.0</td>\n",
       "      <td>0.0</td>\n",
       "      <td>0.0</td>\n",
       "      <td>0.0</td>\n",
       "      <td>0.0</td>\n",
       "    </tr>\n",
       "    <tr>\n",
       "      <th>3303</th>\n",
       "      <td>50223</td>\n",
       "      <td>1.0</td>\n",
       "      <td>1.0</td>\n",
       "      <td>16000</td>\n",
       "      <td>1.053706e+06</td>\n",
       "      <td>32.17</td>\n",
       "      <td>12</td>\n",
       "      <td>1</td>\n",
       "      <td>1.00000</td>\n",
       "      <td>0.00000</td>\n",
       "      <td>...</td>\n",
       "      <td>0.0</td>\n",
       "      <td>0.0</td>\n",
       "      <td>0.0</td>\n",
       "      <td>0.0</td>\n",
       "      <td>0.0</td>\n",
       "      <td>0.0</td>\n",
       "      <td>0.0</td>\n",
       "      <td>0.0</td>\n",
       "      <td>0.0</td>\n",
       "      <td>0.0</td>\n",
       "    </tr>\n",
       "    <tr>\n",
       "      <th>3304</th>\n",
       "      <td>50224</td>\n",
       "      <td>1.0</td>\n",
       "      <td>1.0</td>\n",
       "      <td>13157</td>\n",
       "      <td>6.053764e+06</td>\n",
       "      <td>223.54</td>\n",
       "      <td>42</td>\n",
       "      <td>3</td>\n",
       "      <td>1.00000</td>\n",
       "      <td>0.00000</td>\n",
       "      <td>...</td>\n",
       "      <td>0.0</td>\n",
       "      <td>0.0</td>\n",
       "      <td>0.0</td>\n",
       "      <td>0.0</td>\n",
       "      <td>0.0</td>\n",
       "      <td>0.0</td>\n",
       "      <td>0.0</td>\n",
       "      <td>0.0</td>\n",
       "      <td>0.0</td>\n",
       "      <td>0.0</td>\n",
       "    </tr>\n",
       "    <tr>\n",
       "      <th>3305</th>\n",
       "      <td>50225</td>\n",
       "      <td>1.0</td>\n",
       "      <td>1.0</td>\n",
       "      <td>14101</td>\n",
       "      <td>7.828413e+05</td>\n",
       "      <td>22.11</td>\n",
       "      <td>27</td>\n",
       "      <td>5</td>\n",
       "      <td>1.00000</td>\n",
       "      <td>0.00000</td>\n",
       "      <td>...</td>\n",
       "      <td>0.0</td>\n",
       "      <td>0.0</td>\n",
       "      <td>0.0</td>\n",
       "      <td>0.0</td>\n",
       "      <td>0.0</td>\n",
       "      <td>0.0</td>\n",
       "      <td>0.0</td>\n",
       "      <td>0.0</td>\n",
       "      <td>0.0</td>\n",
       "      <td>0.0</td>\n",
       "    </tr>\n",
       "    <tr>\n",
       "      <th>3306</th>\n",
       "      <td>50226</td>\n",
       "      <td>1.0</td>\n",
       "      <td>1.0</td>\n",
       "      <td>18258</td>\n",
       "      <td>1.293722e+06</td>\n",
       "      <td>41.27</td>\n",
       "      <td>78</td>\n",
       "      <td>5</td>\n",
       "      <td>1.00000</td>\n",
       "      <td>0.00000</td>\n",
       "      <td>...</td>\n",
       "      <td>0.0</td>\n",
       "      <td>0.0</td>\n",
       "      <td>0.0</td>\n",
       "      <td>0.0</td>\n",
       "      <td>0.0</td>\n",
       "      <td>0.0</td>\n",
       "      <td>0.0</td>\n",
       "      <td>0.0</td>\n",
       "      <td>0.0</td>\n",
       "      <td>0.0</td>\n",
       "    </tr>\n",
       "  </tbody>\n",
       "</table>\n",
       "<p>3307 rows × 55 columns</p>\n",
       "</div>"
      ],
      "text/plain": [
       "      OSEBuildingID  NumberofBuildings  NumberofFloors  PropertyGFATotal  \\\n",
       "0                 1                1.0            12.0             88434   \n",
       "1                 2                1.0            11.0            103566   \n",
       "2                 3                1.0            41.0            961990   \n",
       "3                 5                1.0            10.0             61320   \n",
       "4                 8                1.0            18.0            119890   \n",
       "...             ...                ...             ...               ...   \n",
       "3302          50222                1.0             1.0             12294   \n",
       "3303          50223                1.0             1.0             16000   \n",
       "3304          50224                1.0             1.0             13157   \n",
       "3305          50225                1.0             1.0             14101   \n",
       "3306          50226                1.0             1.0             18258   \n",
       "\n",
       "      SiteEnergyUseWN(kBtu)  TotalGHGEmissions  BuildingAge  \\\n",
       "0              7.097539e+06             249.43           88   \n",
       "1              8.765788e+06             263.51           19   \n",
       "2              7.550627e+07            2061.48           46   \n",
       "3              2.836344e+07            1936.34           89   \n",
       "4              1.507824e+07             507.70           35   \n",
       "...                     ...                ...          ...   \n",
       "3302           9.430032e+05              20.94           26   \n",
       "3303           1.053706e+06              32.17           12   \n",
       "3304           6.053764e+06             223.54           42   \n",
       "3305           7.828413e+05              22.11           27   \n",
       "3306           1.293722e+06              41.27           78   \n",
       "\n",
       "      Nombre_utilisation  Taux_Building  Taux_Parking  ...  \\\n",
       "0                      1        1.00000       0.00000  ...   \n",
       "1                      3        0.85455       0.14545  ...   \n",
       "2                      3        1.00000       0.00000  ...   \n",
       "3                      1        1.00000       0.00000  ...   \n",
       "4                      3        0.89607       0.10393  ...   \n",
       "...                  ...            ...           ...  ...   \n",
       "3302                   1        1.00000       0.00000  ...   \n",
       "3303                   1        1.00000       0.00000  ...   \n",
       "3304                   3        1.00000       0.00000  ...   \n",
       "3305                   5        1.00000       0.00000  ...   \n",
       "3306                   5        1.00000       0.00000  ...   \n",
       "\n",
       "      PrimaryPropertyType_Residence Hall  \\\n",
       "0                                    0.0   \n",
       "1                                    0.0   \n",
       "2                                    0.0   \n",
       "3                                    0.0   \n",
       "4                                    0.0   \n",
       "...                                  ...   \n",
       "3302                                 0.0   \n",
       "3303                                 0.0   \n",
       "3304                                 0.0   \n",
       "3305                                 0.0   \n",
       "3306                                 0.0   \n",
       "\n",
       "      PrimaryPropertyType_Residence Hall/Dormitory  \\\n",
       "0                                              0.0   \n",
       "1                                              0.0   \n",
       "2                                              0.0   \n",
       "3                                              0.0   \n",
       "4                                              0.0   \n",
       "...                                            ...   \n",
       "3302                                           0.0   \n",
       "3303                                           0.0   \n",
       "3304                                           0.0   \n",
       "3305                                           0.0   \n",
       "3306                                           0.0   \n",
       "\n",
       "      PrimaryPropertyType_Restaurant  PrimaryPropertyType_Retail Store  \\\n",
       "0                                0.0                               0.0   \n",
       "1                                0.0                               0.0   \n",
       "2                                0.0                               0.0   \n",
       "3                                0.0                               0.0   \n",
       "4                                0.0                               0.0   \n",
       "...                              ...                               ...   \n",
       "3302                             0.0                               0.0   \n",
       "3303                             0.0                               0.0   \n",
       "3304                             0.0                               0.0   \n",
       "3305                             0.0                               0.0   \n",
       "3306                             0.0                               0.0   \n",
       "\n",
       "      PrimaryPropertyType_Self-Storage Facility  \\\n",
       "0                                           0.0   \n",
       "1                                           0.0   \n",
       "2                                           0.0   \n",
       "3                                           0.0   \n",
       "4                                           0.0   \n",
       "...                                         ...   \n",
       "3302                                        0.0   \n",
       "3303                                        0.0   \n",
       "3304                                        0.0   \n",
       "3305                                        0.0   \n",
       "3306                                        0.0   \n",
       "\n",
       "      PrimaryPropertyType_Senior Care Community  \\\n",
       "0                                           0.0   \n",
       "1                                           0.0   \n",
       "2                                           0.0   \n",
       "3                                           0.0   \n",
       "4                                           0.0   \n",
       "...                                         ...   \n",
       "3302                                        0.0   \n",
       "3303                                        0.0   \n",
       "3304                                        0.0   \n",
       "3305                                        0.0   \n",
       "3306                                        0.0   \n",
       "\n",
       "      PrimaryPropertyType_Small- and Mid-Sized Office  \\\n",
       "0                                                 0.0   \n",
       "1                                                 0.0   \n",
       "2                                                 0.0   \n",
       "3                                                 0.0   \n",
       "4                                                 0.0   \n",
       "...                                               ...   \n",
       "3302                                              0.0   \n",
       "3303                                              0.0   \n",
       "3304                                              0.0   \n",
       "3305                                              0.0   \n",
       "3306                                              0.0   \n",
       "\n",
       "      PrimaryPropertyType_Supermarket/Grocery Store  \\\n",
       "0                                               0.0   \n",
       "1                                               0.0   \n",
       "2                                               0.0   \n",
       "3                                               0.0   \n",
       "4                                               0.0   \n",
       "...                                             ...   \n",
       "3302                                            0.0   \n",
       "3303                                            0.0   \n",
       "3304                                            0.0   \n",
       "3305                                            0.0   \n",
       "3306                                            0.0   \n",
       "\n",
       "      PrimaryPropertyType_Warehouse  PrimaryPropertyType_Worship Facility  \n",
       "0                               0.0                                   0.0  \n",
       "1                               0.0                                   0.0  \n",
       "2                               0.0                                   0.0  \n",
       "3                               0.0                                   0.0  \n",
       "4                               0.0                                   0.0  \n",
       "...                             ...                                   ...  \n",
       "3302                            0.0                                   0.0  \n",
       "3303                            0.0                                   0.0  \n",
       "3304                            0.0                                   0.0  \n",
       "3305                            0.0                                   0.0  \n",
       "3306                            0.0                                   0.0  \n",
       "\n",
       "[3307 rows x 55 columns]"
      ]
     },
     "execution_count": 69,
     "metadata": {},
     "output_type": "execute_result"
    }
   ],
   "source": [
    "result_num = result_num.drop(columns={'BuildingType',\n",
    "                                      'PrimaryPropertyType',\n",
    "                                      'Neighborhood',\n",
    "                                      'LargestPropertyUseType'})\n",
    "result_num"
   ]
  },
  {
   "cell_type": "markdown",
   "metadata": {},
   "source": [
    "## Standardisation des données"
   ]
  },
  {
   "cell_type": "code",
   "execution_count": 70,
   "metadata": {
    "ExecuteTime": {
     "end_time": "2022-05-05T13:46:18.401737Z",
     "start_time": "2022-05-05T13:46:18.361744Z"
    }
   },
   "outputs": [
    {
     "data": {
      "text/html": [
       "<div>\n",
       "<style scoped>\n",
       "    .dataframe tbody tr th:only-of-type {\n",
       "        vertical-align: middle;\n",
       "    }\n",
       "\n",
       "    .dataframe tbody tr th {\n",
       "        vertical-align: top;\n",
       "    }\n",
       "\n",
       "    .dataframe thead th {\n",
       "        text-align: right;\n",
       "    }\n",
       "</style>\n",
       "<table border=\"1\" class=\"dataframe\">\n",
       "  <thead>\n",
       "    <tr style=\"text-align: right;\">\n",
       "      <th></th>\n",
       "      <th>OSEBuildingID</th>\n",
       "      <th>NumberofBuildings</th>\n",
       "      <th>NumberofFloors</th>\n",
       "      <th>PropertyGFATotal</th>\n",
       "      <th>SiteEnergyUseWN(kBtu)</th>\n",
       "      <th>TotalGHGEmissions</th>\n",
       "      <th>BuildingAge</th>\n",
       "      <th>Nombre_utilisation</th>\n",
       "      <th>Taux_Building</th>\n",
       "      <th>Taux_Parking</th>\n",
       "      <th>...</th>\n",
       "      <th>PrimaryPropertyType_Residence Hall</th>\n",
       "      <th>PrimaryPropertyType_Residence Hall/Dormitory</th>\n",
       "      <th>PrimaryPropertyType_Restaurant</th>\n",
       "      <th>PrimaryPropertyType_Retail Store</th>\n",
       "      <th>PrimaryPropertyType_Self-Storage Facility</th>\n",
       "      <th>PrimaryPropertyType_Senior Care Community</th>\n",
       "      <th>PrimaryPropertyType_Small- and Mid-Sized Office</th>\n",
       "      <th>PrimaryPropertyType_Supermarket/Grocery Store</th>\n",
       "      <th>PrimaryPropertyType_Warehouse</th>\n",
       "      <th>PrimaryPropertyType_Worship Facility</th>\n",
       "    </tr>\n",
       "  </thead>\n",
       "  <tbody>\n",
       "    <tr>\n",
       "      <th>0</th>\n",
       "      <td>-0.881055</td>\n",
       "      <td>0.0</td>\n",
       "      <td>3.333333</td>\n",
       "      <td>0.520143</td>\n",
       "      <td>0.754022</td>\n",
       "      <td>1.680258</td>\n",
       "      <td>0.644068</td>\n",
       "      <td>-1.0</td>\n",
       "      <td>0.00000</td>\n",
       "      <td>0.00000</td>\n",
       "      <td>...</td>\n",
       "      <td>0.0</td>\n",
       "      <td>0.0</td>\n",
       "      <td>0.0</td>\n",
       "      <td>0.0</td>\n",
       "      <td>0.0</td>\n",
       "      <td>0.0</td>\n",
       "      <td>0.0</td>\n",
       "      <td>0.0</td>\n",
       "      <td>0.0</td>\n",
       "      <td>0.0</td>\n",
       "    </tr>\n",
       "    <tr>\n",
       "      <th>1</th>\n",
       "      <td>-0.881013</td>\n",
       "      <td>0.0</td>\n",
       "      <td>3.000000</td>\n",
       "      <td>0.721006</td>\n",
       "      <td>1.039333</td>\n",
       "      <td>1.798389</td>\n",
       "      <td>-0.525424</td>\n",
       "      <td>1.0</td>\n",
       "      <td>-0.14545</td>\n",
       "      <td>0.14545</td>\n",
       "      <td>...</td>\n",
       "      <td>0.0</td>\n",
       "      <td>0.0</td>\n",
       "      <td>0.0</td>\n",
       "      <td>0.0</td>\n",
       "      <td>0.0</td>\n",
       "      <td>0.0</td>\n",
       "      <td>0.0</td>\n",
       "      <td>0.0</td>\n",
       "      <td>0.0</td>\n",
       "      <td>0.0</td>\n",
       "    </tr>\n",
       "    <tr>\n",
       "      <th>2</th>\n",
       "      <td>-0.880971</td>\n",
       "      <td>0.0</td>\n",
       "      <td>13.000000</td>\n",
       "      <td>12.115763</td>\n",
       "      <td>12.453566</td>\n",
       "      <td>16.883296</td>\n",
       "      <td>-0.067797</td>\n",
       "      <td>1.0</td>\n",
       "      <td>0.00000</td>\n",
       "      <td>0.00000</td>\n",
       "      <td>...</td>\n",
       "      <td>0.0</td>\n",
       "      <td>0.0</td>\n",
       "      <td>0.0</td>\n",
       "      <td>0.0</td>\n",
       "      <td>0.0</td>\n",
       "      <td>0.0</td>\n",
       "      <td>0.0</td>\n",
       "      <td>0.0</td>\n",
       "      <td>0.0</td>\n",
       "      <td>0.0</td>\n",
       "    </tr>\n",
       "    <tr>\n",
       "      <th>3</th>\n",
       "      <td>-0.880888</td>\n",
       "      <td>0.0</td>\n",
       "      <td>2.666667</td>\n",
       "      <td>0.160231</td>\n",
       "      <td>4.391005</td>\n",
       "      <td>15.833375</td>\n",
       "      <td>0.661017</td>\n",
       "      <td>-1.0</td>\n",
       "      <td>0.00000</td>\n",
       "      <td>0.00000</td>\n",
       "      <td>...</td>\n",
       "      <td>0.0</td>\n",
       "      <td>0.0</td>\n",
       "      <td>0.0</td>\n",
       "      <td>0.0</td>\n",
       "      <td>0.0</td>\n",
       "      <td>0.0</td>\n",
       "      <td>0.0</td>\n",
       "      <td>0.0</td>\n",
       "      <td>0.0</td>\n",
       "      <td>0.0</td>\n",
       "    </tr>\n",
       "    <tr>\n",
       "      <th>4</th>\n",
       "      <td>-0.880763</td>\n",
       "      <td>0.0</td>\n",
       "      <td>5.333333</td>\n",
       "      <td>0.937692</td>\n",
       "      <td>2.118915</td>\n",
       "      <td>3.847135</td>\n",
       "      <td>-0.254237</td>\n",
       "      <td>1.0</td>\n",
       "      <td>-0.10393</td>\n",
       "      <td>0.10393</td>\n",
       "      <td>...</td>\n",
       "      <td>0.0</td>\n",
       "      <td>0.0</td>\n",
       "      <td>0.0</td>\n",
       "      <td>0.0</td>\n",
       "      <td>0.0</td>\n",
       "      <td>0.0</td>\n",
       "      <td>0.0</td>\n",
       "      <td>0.0</td>\n",
       "      <td>0.0</td>\n",
       "      <td>0.0</td>\n",
       "    </tr>\n",
       "    <tr>\n",
       "      <th>...</th>\n",
       "      <td>...</td>\n",
       "      <td>...</td>\n",
       "      <td>...</td>\n",
       "      <td>...</td>\n",
       "      <td>...</td>\n",
       "      <td>...</td>\n",
       "      <td>...</td>\n",
       "      <td>...</td>\n",
       "      <td>...</td>\n",
       "      <td>...</td>\n",
       "      <td>...</td>\n",
       "      <td>...</td>\n",
       "      <td>...</td>\n",
       "      <td>...</td>\n",
       "      <td>...</td>\n",
       "      <td>...</td>\n",
       "      <td>...</td>\n",
       "      <td>...</td>\n",
       "      <td>...</td>\n",
       "      <td>...</td>\n",
       "      <td>...</td>\n",
       "    </tr>\n",
       "    <tr>\n",
       "      <th>3302</th>\n",
       "      <td>1.214193</td>\n",
       "      <td>0.0</td>\n",
       "      <td>-0.333333</td>\n",
       "      <td>-0.490542</td>\n",
       "      <td>-0.298552</td>\n",
       "      <td>-0.236765</td>\n",
       "      <td>-0.406780</td>\n",
       "      <td>-1.0</td>\n",
       "      <td>0.00000</td>\n",
       "      <td>0.00000</td>\n",
       "      <td>...</td>\n",
       "      <td>0.0</td>\n",
       "      <td>0.0</td>\n",
       "      <td>0.0</td>\n",
       "      <td>0.0</td>\n",
       "      <td>0.0</td>\n",
       "      <td>0.0</td>\n",
       "      <td>0.0</td>\n",
       "      <td>0.0</td>\n",
       "      <td>0.0</td>\n",
       "      <td>0.0</td>\n",
       "    </tr>\n",
       "    <tr>\n",
       "      <th>3303</th>\n",
       "      <td>1.214235</td>\n",
       "      <td>0.0</td>\n",
       "      <td>-0.333333</td>\n",
       "      <td>-0.441349</td>\n",
       "      <td>-0.279619</td>\n",
       "      <td>-0.142546</td>\n",
       "      <td>-0.644068</td>\n",
       "      <td>-1.0</td>\n",
       "      <td>0.00000</td>\n",
       "      <td>0.00000</td>\n",
       "      <td>...</td>\n",
       "      <td>0.0</td>\n",
       "      <td>0.0</td>\n",
       "      <td>0.0</td>\n",
       "      <td>0.0</td>\n",
       "      <td>0.0</td>\n",
       "      <td>0.0</td>\n",
       "      <td>0.0</td>\n",
       "      <td>0.0</td>\n",
       "      <td>0.0</td>\n",
       "      <td>0.0</td>\n",
       "    </tr>\n",
       "    <tr>\n",
       "      <th>3304</th>\n",
       "      <td>1.214277</td>\n",
       "      <td>0.0</td>\n",
       "      <td>-0.333333</td>\n",
       "      <td>-0.479087</td>\n",
       "      <td>0.575511</td>\n",
       "      <td>1.463042</td>\n",
       "      <td>-0.135593</td>\n",
       "      <td>1.0</td>\n",
       "      <td>0.00000</td>\n",
       "      <td>0.00000</td>\n",
       "      <td>...</td>\n",
       "      <td>0.0</td>\n",
       "      <td>0.0</td>\n",
       "      <td>0.0</td>\n",
       "      <td>0.0</td>\n",
       "      <td>0.0</td>\n",
       "      <td>0.0</td>\n",
       "      <td>0.0</td>\n",
       "      <td>0.0</td>\n",
       "      <td>0.0</td>\n",
       "      <td>0.0</td>\n",
       "    </tr>\n",
       "    <tr>\n",
       "      <th>3305</th>\n",
       "      <td>1.214318</td>\n",
       "      <td>0.0</td>\n",
       "      <td>-0.333333</td>\n",
       "      <td>-0.466556</td>\n",
       "      <td>-0.325944</td>\n",
       "      <td>-0.226949</td>\n",
       "      <td>-0.389831</td>\n",
       "      <td>3.0</td>\n",
       "      <td>0.00000</td>\n",
       "      <td>0.00000</td>\n",
       "      <td>...</td>\n",
       "      <td>0.0</td>\n",
       "      <td>0.0</td>\n",
       "      <td>0.0</td>\n",
       "      <td>0.0</td>\n",
       "      <td>0.0</td>\n",
       "      <td>0.0</td>\n",
       "      <td>0.0</td>\n",
       "      <td>0.0</td>\n",
       "      <td>0.0</td>\n",
       "      <td>0.0</td>\n",
       "    </tr>\n",
       "    <tr>\n",
       "      <th>3306</th>\n",
       "      <td>1.214360</td>\n",
       "      <td>0.0</td>\n",
       "      <td>-0.333333</td>\n",
       "      <td>-0.411376</td>\n",
       "      <td>-0.238571</td>\n",
       "      <td>-0.066197</td>\n",
       "      <td>0.474576</td>\n",
       "      <td>3.0</td>\n",
       "      <td>0.00000</td>\n",
       "      <td>0.00000</td>\n",
       "      <td>...</td>\n",
       "      <td>0.0</td>\n",
       "      <td>0.0</td>\n",
       "      <td>0.0</td>\n",
       "      <td>0.0</td>\n",
       "      <td>0.0</td>\n",
       "      <td>0.0</td>\n",
       "      <td>0.0</td>\n",
       "      <td>0.0</td>\n",
       "      <td>0.0</td>\n",
       "      <td>0.0</td>\n",
       "    </tr>\n",
       "  </tbody>\n",
       "</table>\n",
       "<p>3307 rows × 55 columns</p>\n",
       "</div>"
      ],
      "text/plain": [
       "      OSEBuildingID  NumberofBuildings  NumberofFloors  PropertyGFATotal  \\\n",
       "0         -0.881055                0.0        3.333333          0.520143   \n",
       "1         -0.881013                0.0        3.000000          0.721006   \n",
       "2         -0.880971                0.0       13.000000         12.115763   \n",
       "3         -0.880888                0.0        2.666667          0.160231   \n",
       "4         -0.880763                0.0        5.333333          0.937692   \n",
       "...             ...                ...             ...               ...   \n",
       "3302       1.214193                0.0       -0.333333         -0.490542   \n",
       "3303       1.214235                0.0       -0.333333         -0.441349   \n",
       "3304       1.214277                0.0       -0.333333         -0.479087   \n",
       "3305       1.214318                0.0       -0.333333         -0.466556   \n",
       "3306       1.214360                0.0       -0.333333         -0.411376   \n",
       "\n",
       "      SiteEnergyUseWN(kBtu)  TotalGHGEmissions  BuildingAge  \\\n",
       "0                  0.754022           1.680258     0.644068   \n",
       "1                  1.039333           1.798389    -0.525424   \n",
       "2                 12.453566          16.883296    -0.067797   \n",
       "3                  4.391005          15.833375     0.661017   \n",
       "4                  2.118915           3.847135    -0.254237   \n",
       "...                     ...                ...          ...   \n",
       "3302              -0.298552          -0.236765    -0.406780   \n",
       "3303              -0.279619          -0.142546    -0.644068   \n",
       "3304               0.575511           1.463042    -0.135593   \n",
       "3305              -0.325944          -0.226949    -0.389831   \n",
       "3306              -0.238571          -0.066197     0.474576   \n",
       "\n",
       "      Nombre_utilisation  Taux_Building  Taux_Parking  ...  \\\n",
       "0                   -1.0        0.00000       0.00000  ...   \n",
       "1                    1.0       -0.14545       0.14545  ...   \n",
       "2                    1.0        0.00000       0.00000  ...   \n",
       "3                   -1.0        0.00000       0.00000  ...   \n",
       "4                    1.0       -0.10393       0.10393  ...   \n",
       "...                  ...            ...           ...  ...   \n",
       "3302                -1.0        0.00000       0.00000  ...   \n",
       "3303                -1.0        0.00000       0.00000  ...   \n",
       "3304                 1.0        0.00000       0.00000  ...   \n",
       "3305                 3.0        0.00000       0.00000  ...   \n",
       "3306                 3.0        0.00000       0.00000  ...   \n",
       "\n",
       "      PrimaryPropertyType_Residence Hall  \\\n",
       "0                                    0.0   \n",
       "1                                    0.0   \n",
       "2                                    0.0   \n",
       "3                                    0.0   \n",
       "4                                    0.0   \n",
       "...                                  ...   \n",
       "3302                                 0.0   \n",
       "3303                                 0.0   \n",
       "3304                                 0.0   \n",
       "3305                                 0.0   \n",
       "3306                                 0.0   \n",
       "\n",
       "      PrimaryPropertyType_Residence Hall/Dormitory  \\\n",
       "0                                              0.0   \n",
       "1                                              0.0   \n",
       "2                                              0.0   \n",
       "3                                              0.0   \n",
       "4                                              0.0   \n",
       "...                                            ...   \n",
       "3302                                           0.0   \n",
       "3303                                           0.0   \n",
       "3304                                           0.0   \n",
       "3305                                           0.0   \n",
       "3306                                           0.0   \n",
       "\n",
       "      PrimaryPropertyType_Restaurant  PrimaryPropertyType_Retail Store  \\\n",
       "0                                0.0                               0.0   \n",
       "1                                0.0                               0.0   \n",
       "2                                0.0                               0.0   \n",
       "3                                0.0                               0.0   \n",
       "4                                0.0                               0.0   \n",
       "...                              ...                               ...   \n",
       "3302                             0.0                               0.0   \n",
       "3303                             0.0                               0.0   \n",
       "3304                             0.0                               0.0   \n",
       "3305                             0.0                               0.0   \n",
       "3306                             0.0                               0.0   \n",
       "\n",
       "      PrimaryPropertyType_Self-Storage Facility  \\\n",
       "0                                           0.0   \n",
       "1                                           0.0   \n",
       "2                                           0.0   \n",
       "3                                           0.0   \n",
       "4                                           0.0   \n",
       "...                                         ...   \n",
       "3302                                        0.0   \n",
       "3303                                        0.0   \n",
       "3304                                        0.0   \n",
       "3305                                        0.0   \n",
       "3306                                        0.0   \n",
       "\n",
       "      PrimaryPropertyType_Senior Care Community  \\\n",
       "0                                           0.0   \n",
       "1                                           0.0   \n",
       "2                                           0.0   \n",
       "3                                           0.0   \n",
       "4                                           0.0   \n",
       "...                                         ...   \n",
       "3302                                        0.0   \n",
       "3303                                        0.0   \n",
       "3304                                        0.0   \n",
       "3305                                        0.0   \n",
       "3306                                        0.0   \n",
       "\n",
       "      PrimaryPropertyType_Small- and Mid-Sized Office  \\\n",
       "0                                                 0.0   \n",
       "1                                                 0.0   \n",
       "2                                                 0.0   \n",
       "3                                                 0.0   \n",
       "4                                                 0.0   \n",
       "...                                               ...   \n",
       "3302                                              0.0   \n",
       "3303                                              0.0   \n",
       "3304                                              0.0   \n",
       "3305                                              0.0   \n",
       "3306                                              0.0   \n",
       "\n",
       "      PrimaryPropertyType_Supermarket/Grocery Store  \\\n",
       "0                                               0.0   \n",
       "1                                               0.0   \n",
       "2                                               0.0   \n",
       "3                                               0.0   \n",
       "4                                               0.0   \n",
       "...                                             ...   \n",
       "3302                                            0.0   \n",
       "3303                                            0.0   \n",
       "3304                                            0.0   \n",
       "3305                                            0.0   \n",
       "3306                                            0.0   \n",
       "\n",
       "      PrimaryPropertyType_Warehouse  PrimaryPropertyType_Worship Facility  \n",
       "0                               0.0                                   0.0  \n",
       "1                               0.0                                   0.0  \n",
       "2                               0.0                                   0.0  \n",
       "3                               0.0                                   0.0  \n",
       "4                               0.0                                   0.0  \n",
       "...                             ...                                   ...  \n",
       "3302                            0.0                                   0.0  \n",
       "3303                            0.0                                   0.0  \n",
       "3304                            0.0                                   0.0  \n",
       "3305                            0.0                                   0.0  \n",
       "3306                            0.0                                   0.0  \n",
       "\n",
       "[3307 rows x 55 columns]"
      ]
     },
     "execution_count": 70,
     "metadata": {},
     "output_type": "execute_result"
    }
   ],
   "source": [
    "X = result_num.values\n",
    "\n",
    "from sklearn.preprocessing import RobustScaler\n",
    "\n",
    "X_robust = RobustScaler().fit_transform(X)\n",
    "\n",
    "resultNorm = pd.DataFrame(X_robust, columns = result_num.columns)\n",
    "resultNorm"
   ]
  },
  {
   "cell_type": "markdown",
   "metadata": {},
   "source": [
    "## Séparation du jeu de données\n",
    "\n",
    "Afin de tester notre meilleur modèle sur des données \"inconnues\", nous allons mettre de côté une partie des données initiales qui ne seront pas inclusent dans les modèles intermédiaires. Nous allons donc spliter nos données pour obtenir un jeu d'entrainement et un jeu de test"
   ]
  },
  {
   "cell_type": "code",
   "execution_count": 71,
   "metadata": {
    "ExecuteTime": {
     "end_time": "2022-05-05T13:46:21.421538Z",
     "start_time": "2022-05-05T13:46:21.405540Z"
    }
   },
   "outputs": [
    {
     "name": "stdout",
     "output_type": "stream",
     "text": [
      "Entrainement: 2645 lignes,\n",
      "Test: 662 lignes.\n",
      "\n"
     ]
    }
   ],
   "source": [
    "X = resultNorm.drop(['TotalGHGEmissions','SiteEnergyUseWN(kBtu)', 'OSEBuildingID'], axis=1)\n",
    "Y = resultNorm[['TotalGHGEmissions', 'SiteEnergyUseWN(kBtu)']]\n",
    "\n",
    "X_train, X_test, Y_train, Y_test = train_test_split(X, Y, test_size=0.2, random_state=5)\n",
    "\n",
    "print(\"Entrainement: {} lignes,\\nTest: {} lignes.\\n\".format(X_train.shape[0],\n",
    "                                                            X_test.shape[0]))"
   ]
  },
  {
   "cell_type": "code",
   "execution_count": 72,
   "metadata": {
    "ExecuteTime": {
     "end_time": "2022-05-05T13:46:25.261666Z",
     "start_time": "2022-05-05T13:46:23.521703Z"
    }
   },
   "outputs": [
    {
     "data": {
      "image/png": "[encoded data removed]",
      "text/plain": [
       "<Figure size 1440x576 with 2 Axes>"
      ]
     },
     "metadata": {
      "needs_background": "light"
     },
     "output_type": "display_data"
    }
   ],
   "source": [
    "from sklearn.preprocessing import FunctionTransformer\n",
    "\n",
    "logtransformer = FunctionTransformer(func=(lambda x : np.log(1+x)), inverse_func = (lambda x : np.exp(x)-1), check_inverse = True)\n",
    "Y_log = logtransformer.transform(Y)\n",
    "\n",
    "fig, axes = plt.subplots(nrows=1, ncols=2, sharex=False, figsize=(20,8))\n",
    "sns.histplot(data=Y, x='TotalGHGEmissions', stat=\"density\", ax=axes[0])\n",
    "axes[0].set_title(\"Données initiales\", color='#2cb7b0')\n",
    "sns.histplot(data=Y_log, x='TotalGHGEmissions', stat=\"density\", ax=axes[1])\n",
    "axes[1].set_title(\"Application du logarithme\", color='#2cb7b0')\n",
    "plt.suptitle(\"Distribution des emissions de CO2 avec changement d'échelle\", fontsize=22)\n",
    "plt.show()"
   ]
  },
  {
   "cell_type": "code",
   "execution_count": 73,
   "metadata": {
    "ExecuteTime": {
     "end_time": "2022-05-05T13:46:27.693657Z",
     "start_time": "2022-05-05T13:46:27.677693Z"
    }
   },
   "outputs": [],
   "source": [
    "# Distribution des indices train/validation pour obtenir des jeux train/validation.\n",
    "# Divise le jeu de données en k partitions\n",
    "\n",
    "kf = KFold(5)"
   ]
  },
  {
   "cell_type": "markdown",
   "metadata": {},
   "source": [
    "## Regression Lineaire"
   ]
  },
  {
   "cell_type": "code",
   "execution_count": 74,
   "metadata": {
    "ExecuteTime": {
     "end_time": "2022-05-05T13:46:29.493676Z",
     "start_time": "2022-05-05T13:46:29.477656Z"
    }
   },
   "outputs": [],
   "source": [
    "from sklearn.pipeline import Pipeline\n",
    "from sklearn import set_config\n",
    "set_config(display='diagram')\n",
    "\n",
    "\n",
    "param_mlr = {\"fit_intercept\": [True, False],\n",
    "             \"normalize\": [True, False]}\n",
    "\n",
    "mlr_grid_cv = Pipeline([\n",
    "       ('grid_search_mlr', GridSearchCV(\n",
    "                            LinearRegression(),\n",
    "                            param_grid=param_mlr,\n",
    "                            cv=kf,\n",
    "                            scoring=('r2','neg_mean_absolute_error'),\n",
    "                            return_train_score = True,\n",
    "                            refit='neg_mean_absolute_error',\n",
    "                            n_jobs = -1))])"
   ]
  },
  {
   "cell_type": "code",
   "execution_count": 75,
   "metadata": {
    "ExecuteTime": {
     "end_time": "2022-05-05T13:46:31.530081Z",
     "start_time": "2022-05-05T13:46:31.518086Z"
    }
   },
   "outputs": [],
   "source": [
    "def model_scores(pip,step):\n",
    "    df_results = pd.DataFrame.from_dict(pip.named_steps[step].cv_results_) \\\n",
    "                    .sort_values('rank_test_neg_mean_absolute_error')\n",
    "    best_nmae = pip.named_steps[step].best_score_\n",
    "    best_r2 = np.mean(df_results[df_results.rank_test_r2 == 1]['mean_test_r2'])\n",
    "    best_params = pip.named_steps[step].best_params_\n",
    "    training_time = round((np.mean(df_results.mean_fit_time)*X_train.shape[0]),2)\n",
    "    print(\"Meilleur score MAE : {}\\nMeilleur Score R2 : {}\\nMeilleurs paramètres : {}\\nTemps moyen d'entrainement : {}s\"\\\n",
    "         .format(round(best_nmae,3), round(best_r2,3), best_params, training_time))\n",
    "    return df_results"
   ]
  },
  {
   "cell_type": "markdown",
   "metadata": {},
   "source": [
    "### Résultat TotalGHGEmissions pour Regression Linéaire"
   ]
  },
  {
   "cell_type": "code",
   "execution_count": 76,
   "metadata": {
    "ExecuteTime": {
     "end_time": "2022-05-05T13:46:36.194232Z",
     "start_time": "2022-05-05T13:46:33.502076Z"
    }
   },
   "outputs": [
    {
     "name": "stdout",
     "output_type": "stream",
     "text": [
      "Meilleur score MAE : -464391.141\n",
      "Meilleur Score R2 : -39237276248851.57\n",
      "Meilleurs paramètres : {'fit_intercept': False, 'normalize': True}\n",
      "Temps moyen d'entrainement : 67.72s\n"
     ]
    }
   ],
   "source": [
    "#Entrainement sur les 2 variables à expliquer :\n",
    "TotEmis_mlr_model = mlr_grid_cv.fit(X_train, Y_train['TotalGHGEmissions'])\n",
    "TotEmis_mlr_results = model_scores(TotEmis_mlr_model, 'grid_search_mlr')"
   ]
  },
  {
   "cell_type": "markdown",
   "metadata": {},
   "source": [
    "### Résultat SiteEnergyUseWN(kBtu) pour Regression Linéaire"
   ]
  },
  {
   "cell_type": "code",
   "execution_count": 77,
   "metadata": {
    "ExecuteTime": {
     "end_time": "2022-05-05T13:46:38.206230Z",
     "start_time": "2022-05-05T13:46:37.986276Z"
    }
   },
   "outputs": [
    {
     "name": "stdout",
     "output_type": "stream",
     "text": [
      "Meilleur score MAE : -9457781.829\n",
      "Meilleur Score R2 : -3.1040076198904692e+16\n",
      "Meilleurs paramètres : {'fit_intercept': False, 'normalize': True}\n",
      "Temps moyen d'entrainement : 30.69s\n"
     ]
    }
   ],
   "source": [
    "SEU_mlr_model = mlr_grid_cv.fit(X_train, Y_train['SiteEnergyUseWN(kBtu)'])\n",
    "SEU_mlr_results = model_scores(SEU_mlr_model, 'grid_search_mlr')"
   ]
  },
  {
   "cell_type": "markdown",
   "metadata": {
    "ExecuteTime": {
     "end_time": "2022-04-11T13:44:00.299454Z",
     "start_time": "2022-04-11T13:44:00.261115Z"
    }
   },
   "source": [
    "## ElasticNet"
   ]
  },
  {
   "cell_type": "code",
   "execution_count": 78,
   "metadata": {
    "ExecuteTime": {
     "end_time": "2022-05-05T13:46:40.138720Z",
     "start_time": "2022-05-05T13:46:40.126729Z"
    }
   },
   "outputs": [],
   "source": [
    "param_eNet = {\"max_iter\": [10, 100, 1000],\n",
    "              \"alpha\": np.logspace(-4, 0, num=5),\n",
    "              \"l1_ratio\": np.arange(0.0, 1.1, 0.1)}\n",
    "\n",
    "eNet_grid_cv = Pipeline([\n",
    "    ('grid_search_enet', GridSearchCV(\n",
    "                            ElasticNet(), \n",
    "                            param_grid=param_eNet,\n",
    "                            cv=kf,\n",
    "                            scoring=('r2','neg_mean_absolute_error'),\n",
    "                            return_train_score = True,\n",
    "                            refit='neg_mean_absolute_error',\n",
    "                            n_jobs = -1))])"
   ]
  },
  {
   "cell_type": "markdown",
   "metadata": {},
   "source": [
    "### Résultat TotalGHGEmissions pour ElasticNet"
   ]
  },
  {
   "cell_type": "code",
   "execution_count": 79,
   "metadata": {
    "ExecuteTime": {
     "end_time": "2022-05-05T13:46:45.402770Z",
     "start_time": "2022-05-05T13:46:42.154708Z"
    }
   },
   "outputs": [
    {
     "name": "stdout",
     "output_type": "stream",
     "text": [
      "Meilleur score MAE : -1.066\n",
      "Meilleur Score R2 : 0.423\n",
      "Meilleurs paramètres : {'alpha': 0.01, 'l1_ratio': 1.0, 'max_iter': 10}\n",
      "Temps moyen d'entrainement : 111.69s\n"
     ]
    }
   ],
   "source": [
    "TotEmis_eNet_model = eNet_grid_cv.fit(X_train, Y_train['TotalGHGEmissions'])\n",
    "TotEmis_eNet_results = model_scores(TotEmis_eNet_model, 'grid_search_enet')"
   ]
  },
  {
   "cell_type": "markdown",
   "metadata": {},
   "source": [
    "### Résultat SiteEnergyUseWN(kBtu) pour ElasticNet"
   ]
  },
  {
   "cell_type": "code",
   "execution_count": 80,
   "metadata": {
    "ExecuteTime": {
     "end_time": "2022-05-05T13:46:50.079861Z",
     "start_time": "2022-05-05T13:46:47.170841Z"
    }
   },
   "outputs": [
    {
     "name": "stdout",
     "output_type": "stream",
     "text": [
      "Meilleur score MAE : -0.705\n",
      "Meilleur Score R2 : 0.515\n",
      "Meilleurs paramètres : {'alpha': 0.01, 'l1_ratio': 1.0, 'max_iter': 10}\n",
      "Temps moyen d'entrainement : 96.97s\n"
     ]
    }
   ],
   "source": [
    "SEU_eNet_model = eNet_grid_cv.fit(X_train, Y_train['SiteEnergyUseWN(kBtu)'])\n",
    "SEU_eNet_results = model_scores(SEU_eNet_model, 'grid_search_enet')"
   ]
  },
  {
   "cell_type": "markdown",
   "metadata": {},
   "source": [
    "## KNeighbors"
   ]
  },
  {
   "cell_type": "code",
   "execution_count": 81,
   "metadata": {
    "ExecuteTime": {
     "end_time": "2022-05-05T13:46:56.680850Z",
     "start_time": "2022-05-05T13:46:56.661237Z"
    }
   },
   "outputs": [],
   "source": [
    "param_KNN = {'n_neighbors' : np.arange(1,20),\n",
    "             'weights' : ['uniform', 'distance']}\n",
    "\n",
    "KNN_grid_cv = Pipeline([\n",
    "    ('grid_search_KNN', GridSearchCV(\n",
    "                            KNeighborsRegressor(), \n",
    "                            param_grid=param_KNN,\n",
    "                            cv=kf,\n",
    "                            scoring=('r2','neg_mean_absolute_error'),\n",
    "                            return_train_score = True,\n",
    "                            refit='neg_mean_absolute_error',\n",
    "                            n_jobs = -1))])"
   ]
  },
  {
   "cell_type": "markdown",
   "metadata": {},
   "source": [
    "### Résultat TotalGHGEmissions pour KNN"
   ]
  },
  {
   "cell_type": "code",
   "execution_count": 82,
   "metadata": {
    "ExecuteTime": {
     "end_time": "2022-05-05T13:47:09.310171Z",
     "start_time": "2022-05-05T13:46:58.376912Z"
    }
   },
   "outputs": [
    {
     "name": "stdout",
     "output_type": "stream",
     "text": [
      "Meilleur score MAE : -0.713\n",
      "Meilleur Score R2 : 0.362\n",
      "Meilleurs paramètres : {'n_neighbors': 5, 'weights': 'distance'}\n",
      "Temps moyen d'entrainement : 45.24s\n"
     ]
    }
   ],
   "source": [
    "TotEmis_KNN_model = KNN_grid_cv.fit(X_train, Y_train['TotalGHGEmissions'])\n",
    "TotEmis_KNN_results = model_scores(TotEmis_KNN_model, 'grid_search_KNN')"
   ]
  },
  {
   "cell_type": "markdown",
   "metadata": {},
   "source": [
    "### Résultat SiteEnergyUseWN(kBtu) pour KNN"
   ]
  },
  {
   "cell_type": "code",
   "execution_count": 83,
   "metadata": {
    "ExecuteTime": {
     "end_time": "2022-05-05T13:47:21.373873Z",
     "start_time": "2022-05-05T13:47:11.172279Z"
    }
   },
   "outputs": [
    {
     "name": "stdout",
     "output_type": "stream",
     "text": [
      "Meilleur score MAE : -0.502\n",
      "Meilleur Score R2 : 0.483\n",
      "Meilleurs paramètres : {'n_neighbors': 8, 'weights': 'distance'}\n",
      "Temps moyen d'entrainement : 41.74s\n"
     ]
    }
   ],
   "source": [
    "SEU_KNN_model = KNN_grid_cv.fit(X_train, Y_train['SiteEnergyUseWN(kBtu)'])\n",
    "SEU_KNN_results = model_scores(SEU_KNN_model, 'grid_search_KNN')"
   ]
  },
  {
   "cell_type": "markdown",
   "metadata": {},
   "source": [
    "## Random Forest\n",
    "\n",
    "\n",
    "Un random forest est constitué d'un ensemble d'arbres de décision indépendants. \n",
    "\n",
    "Chaque arbre dispose d'une vision parcellaire du problème du fait d'un double tirage aléatoire :\n",
    "\n",
    "   - un tirage aléatoire avec remplacement sur les observations (les lignes de votre base de données). Ce processus s'appelle le tree bagging,\n",
    "   - un tirage aléatoire sur les variables (les colonnes de votre base de données). Ce processus s'appelle le feature sampling.\n",
    "\n",
    "A la fin, tous ces arbres de décisions indépendants sont assemblés. La prédiction faite par le random forest pour des données inconnues est alors la moyenne de tous les arbres."
   ]
  },
  {
   "cell_type": "code",
   "execution_count": 84,
   "metadata": {
    "ExecuteTime": {
     "end_time": "2022-05-05T13:47:23.456683Z",
     "start_time": "2022-05-05T13:47:23.444725Z"
    }
   },
   "outputs": [],
   "source": [
    "param_rfr = {'max_features' : ['sqrt', 'log2'],\n",
    "             'max_depth': [15, 25, 50, 100], # Nombre de profondeurs maximums\n",
    "             'min_samples_split': [2, 5, 10],\n",
    "             'bootstrap' : [True, False],\n",
    "             'min_samples_leaf': [1,2,5,10]}\n",
    "\n",
    "rfr_grid_cv = Pipeline([\n",
    "    ('grid_search_rfr', GridSearchCV(\n",
    "                            RandomForestRegressor(), \n",
    "                            param_grid=param_rfr,\n",
    "                            cv=kf,\n",
    "                            scoring=('r2','neg_mean_absolute_error'),\n",
    "                            refit='neg_mean_absolute_error',\n",
    "                            return_train_score = True,\n",
    "                            n_jobs = -1))])"
   ]
  },
  {
   "cell_type": "markdown",
   "metadata": {},
   "source": [
    "### Résultat TotalGHGEmissions pour Random Forest"
   ]
  },
  {
   "cell_type": "code",
   "execution_count": 85,
   "metadata": {
    "ExecuteTime": {
     "end_time": "2022-05-05T13:48:02.495562Z",
     "start_time": "2022-05-05T13:47:25.616222Z"
    }
   },
   "outputs": [
    {
     "name": "stdout",
     "output_type": "stream",
     "text": [
      "Meilleur score MAE : -0.61\n",
      "Meilleur Score R2 : 0.534\n",
      "Meilleurs paramètres : {'bootstrap': False, 'max_depth': 25, 'max_features': 'sqrt', 'min_samples_leaf': 1, 'min_samples_split': 2}\n",
      "Temps moyen d'entrainement : 1371.66s\n"
     ]
    }
   ],
   "source": [
    "TotEmis_rfr_model = rfr_grid_cv.fit(X_train, Y_train['TotalGHGEmissions'])\n",
    "TotEmis_rfr_results = model_scores(TotEmis_rfr_model, 'grid_search_rfr')"
   ]
  },
  {
   "cell_type": "markdown",
   "metadata": {},
   "source": [
    "### Résultat SiteEnergyUseWN(kBtu) pour Random Forest"
   ]
  },
  {
   "cell_type": "code",
   "execution_count": 86,
   "metadata": {
    "ExecuteTime": {
     "end_time": "2022-05-05T13:48:41.487579Z",
     "start_time": "2022-05-05T13:48:04.200594Z"
    }
   },
   "outputs": [
    {
     "name": "stdout",
     "output_type": "stream",
     "text": [
      "Meilleur score MAE : -0.441\n",
      "Meilleur Score R2 : 0.572\n",
      "Meilleurs paramètres : {'bootstrap': False, 'max_depth': 50, 'max_features': 'log2', 'min_samples_leaf': 1, 'min_samples_split': 2}\n",
      "Temps moyen d'entrainement : 1384.9s\n"
     ]
    }
   ],
   "source": [
    "SEU_rfr_model = rfr_grid_cv.fit(X_train, Y_train['SiteEnergyUseWN(kBtu)'])\n",
    "SEU_rfr_results = model_scores(SEU_rfr_model, 'grid_search_rfr')"
   ]
  },
  {
   "cell_type": "markdown",
   "metadata": {},
   "source": [
    "## Réseau de neurones"
   ]
  },
  {
   "cell_type": "code",
   "execution_count": 30,
   "metadata": {
    "ExecuteTime": {
     "end_time": "2022-05-05T12:06:08.048862Z",
     "start_time": "2022-05-05T12:06:08.033225Z"
    }
   },
   "outputs": [],
   "source": [
    "param_neurone = {'hidden_layer_sizes': [1,50,100, 200],\n",
    "                 'alpha': [0.00005,0.0005],\n",
    "                 'activation': [\"identity\", \"logistic\", \"tanh\", \"relu\"], \n",
    "                 'solver': [\"lbfgs\", \"sgd\", \"adam\"]}\n",
    "\n",
    "MLP_grid_cv = Pipeline([\n",
    "    ('grid_search_MLP', GridSearchCV(\n",
    "                            MLPRegressor(), \n",
    "                            param_grid=param_neurone,\n",
    "                            cv=kf,\n",
    "                            scoring=('r2','neg_mean_absolute_error'),\n",
    "                            refit='neg_mean_absolute_error',\n",
    "                            return_train_score = True,\n",
    "                            n_jobs = -1))])"
   ]
  },
  {
   "cell_type": "markdown",
   "metadata": {},
   "source": [
    "### Résultat TotalGHGEmissions pour MLPRegressor"
   ]
  },
  {
   "cell_type": "code",
   "execution_count": 31,
   "metadata": {
    "ExecuteTime": {
     "end_time": "2022-05-05T12:09:13.999513Z",
     "start_time": "2022-05-05T12:06:08.048862Z"
    }
   },
   "outputs": [
    {
     "name": "stdout",
     "output_type": "stream",
     "text": [
      "Meilleur score MAE : -1.006\n",
      "Meilleur Score R2 : 0.496\n",
      "Meilleurs paramètres : {'activation': 'tanh', 'alpha': 0.0005, 'hidden_layer_sizes': 1, 'solver': 'adam'}\n",
      "Temps moyen d'entrainement : 16056.73s\n"
     ]
    }
   ],
   "source": [
    "TotEmis_MLP_model = MLP_grid_cv.fit(X_train, Y_train['TotalGHGEmissions'])\n",
    "TotEmis_MLP_results = model_scores(TotEmis_MLP_model, 'grid_search_MLP')"
   ]
  },
  {
   "cell_type": "markdown",
   "metadata": {},
   "source": [
    "### Résultat SiteEnergyUseWN(kBtu) pour MLPRegressor"
   ]
  },
  {
   "cell_type": "code",
   "execution_count": 32,
   "metadata": {
    "ExecuteTime": {
     "end_time": "2022-05-05T12:09:54.174621Z",
     "start_time": "2022-05-05T12:09:13.999513Z"
    }
   },
   "outputs": [
    {
     "name": "stdout",
     "output_type": "stream",
     "text": [
      "Meilleur score MAE : -0.447\n",
      "Meilleur Score R2 : 0.57\n",
      "Meilleurs paramètres : {'bootstrap': False, 'max_depth': 100, 'max_features': 'sqrt', 'min_samples_leaf': 1, 'min_samples_split': 2}\n",
      "Temps moyen d'entrainement : 1488.32s\n"
     ]
    }
   ],
   "source": [
    "SEU_MLP_model = rfr_grid_cv.fit(X_train, Y_train['SiteEnergyUseWN(kBtu)'])\n",
    "SEU_MLP_results = model_scores(SEU_MLP_model, 'grid_search_rfr')"
   ]
  },
  {
   "cell_type": "markdown",
   "metadata": {},
   "source": [
    "## Selection du meilleur modéle\n",
    "\n",
    "### Total Emission CO2"
   ]
  },
  {
   "cell_type": "code",
   "execution_count": 33,
   "metadata": {
    "ExecuteTime": {
     "end_time": "2022-05-05T12:09:54.190669Z",
     "start_time": "2022-05-05T12:09:54.175129Z"
    }
   },
   "outputs": [],
   "source": [
    "metric = ['mean_fit_time', 'mean_score_time',\n",
    "           'mean_test_neg_mean_absolute_error',\n",
    "           'mean_train_neg_mean_absolute_error']\n",
    "TotEmis_metric = pd.concat([pd.DataFrame(TotEmis_mlr_results[metric].mean(), columns=['LinearRegression']),\n",
    "           pd.DataFrame(TotEmis_eNet_results[metric].mean(), columns=['ElasticNet']),\n",
    "           pd.DataFrame(TotEmis_KNN_results[metric].mean(), columns=['KNeighbors']),\n",
    "           pd.DataFrame(TotEmis_rfr_results[metric].mean(), columns=['RandomForest']),\n",
    "           pd.DataFrame(TotEmis_MLP_results[metric].mean(), columns=['MLPRegressor'])\n",
    "          ], axis=1)\n",
    "TotEmis_compare = pd.DataFrame(columns=metric, \n",
    "                                     index=['LinearRegression','ElasticNet',\n",
    "                                            'KNeighbors','RandomForest',\n",
    "                                            'MLPRegressor'])\n",
    "for c in metric:\n",
    "    TotEmis_compare[c] = TotEmis_metric.loc[c]"
   ]
  },
  {
   "cell_type": "code",
   "execution_count": 34,
   "metadata": {
    "ExecuteTime": {
     "end_time": "2022-05-05T12:09:54.221932Z",
     "start_time": "2022-05-05T12:09:54.190669Z"
    }
   },
   "outputs": [
    {
     "data": {
      "text/html": [
       "<div>\n",
       "<style scoped>\n",
       "    .dataframe tbody tr th:only-of-type {\n",
       "        vertical-align: middle;\n",
       "    }\n",
       "\n",
       "    .dataframe tbody tr th {\n",
       "        vertical-align: top;\n",
       "    }\n",
       "\n",
       "    .dataframe thead th {\n",
       "        text-align: right;\n",
       "    }\n",
       "</style>\n",
       "<table border=\"1\" class=\"dataframe\">\n",
       "  <thead>\n",
       "    <tr style=\"text-align: right;\">\n",
       "      <th></th>\n",
       "      <th>mean_fit_time</th>\n",
       "      <th>mean_score_time</th>\n",
       "      <th>mean_test_neg_mean_absolute_error</th>\n",
       "      <th>mean_train_neg_mean_absolute_error</th>\n",
       "    </tr>\n",
       "  </thead>\n",
       "  <tbody>\n",
       "    <tr>\n",
       "      <th>LinearRegression</th>\n",
       "      <td>0.024105</td>\n",
       "      <td>0.005717</td>\n",
       "      <td>-6.658908e+10</td>\n",
       "      <td>-1.112082</td>\n",
       "    </tr>\n",
       "    <tr>\n",
       "      <th>ElasticNet</th>\n",
       "      <td>0.034057</td>\n",
       "      <td>0.004938</td>\n",
       "      <td>-1.155758e+00</td>\n",
       "      <td>-1.129696</td>\n",
       "    </tr>\n",
       "    <tr>\n",
       "      <th>KNeighbors</th>\n",
       "      <td>0.015736</td>\n",
       "      <td>0.156408</td>\n",
       "      <td>-8.445742e-01</td>\n",
       "      <td>-0.394798</td>\n",
       "    </tr>\n",
       "    <tr>\n",
       "      <th>RandomForest</th>\n",
       "      <td>0.490986</td>\n",
       "      <td>0.026130</td>\n",
       "      <td>-8.991145e-01</td>\n",
       "      <td>-0.682112</td>\n",
       "    </tr>\n",
       "    <tr>\n",
       "      <th>MLPRegressor</th>\n",
       "      <td>6.070596</td>\n",
       "      <td>0.010008</td>\n",
       "      <td>-1.156674e+00</td>\n",
       "      <td>-0.961845</td>\n",
       "    </tr>\n",
       "  </tbody>\n",
       "</table>\n",
       "</div>"
      ],
      "text/plain": [
       "                  mean_fit_time  mean_score_time  \\\n",
       "LinearRegression       0.024105         0.005717   \n",
       "ElasticNet             0.034057         0.004938   \n",
       "KNeighbors             0.015736         0.156408   \n",
       "RandomForest           0.490986         0.026130   \n",
       "MLPRegressor           6.070596         0.010008   \n",
       "\n",
       "                  mean_test_neg_mean_absolute_error  \\\n",
       "LinearRegression                      -6.658908e+10   \n",
       "ElasticNet                            -1.155758e+00   \n",
       "KNeighbors                            -8.445742e-01   \n",
       "RandomForest                          -8.991145e-01   \n",
       "MLPRegressor                          -1.156674e+00   \n",
       "\n",
       "                  mean_train_neg_mean_absolute_error  \n",
       "LinearRegression                           -1.112082  \n",
       "ElasticNet                                 -1.129696  \n",
       "KNeighbors                                 -0.394798  \n",
       "RandomForest                               -0.682112  \n",
       "MLPRegressor                               -0.961845  "
      ]
     },
     "execution_count": 34,
     "metadata": {},
     "output_type": "execute_result"
    }
   ],
   "source": [
    "TotEmis_compare"
   ]
  },
  {
   "cell_type": "code",
   "execution_count": 35,
   "metadata": {
    "ExecuteTime": {
     "end_time": "2022-05-05T12:09:54.535635Z",
     "start_time": "2022-05-05T12:09:54.221932Z"
    }
   },
   "outputs": [
    {
     "data": {
      "image/png": "[encoded data removed]",
      "text/plain": [
       "<Figure size 1296x576 with 2 Axes>"
      ]
     },
     "metadata": {
      "needs_background": "light"
     },
     "output_type": "display_data"
    }
   ],
   "source": [
    "#On élimine le modèle regression lineaire de cette représentation car hors normes\n",
    "TotEmis_compare = TotEmis_compare[TotEmis_compare.index != 'LinearRegression']\n",
    "x = np.arange(len(TotEmis_compare.index))\n",
    "width = 0.35\n",
    "\n",
    "fig, ax = plt.subplots(1,2,figsize=(18,8), sharey=False, sharex=False)\n",
    "\n",
    "scores1 = ax[0].bar(x - width/2, -1*TotEmis_compare['mean_test_neg_mean_absolute_error'], width, label='Test')\n",
    "scores2 = ax[0].bar(x + width/2, -1*TotEmis_compare['mean_train_neg_mean_absolute_error'], width, label='Train')\n",
    "ax[0].set_ylabel('Mean Absolute Error', fontsize = 15)\n",
    "ax[0].set_title('Comparaison des scores par modèle', fontsize = 14)\n",
    "ax[0].set_xticks(x)\n",
    "ax[0].set_xticklabels(TotEmis_compare.index)\n",
    "ax[0].legend()\n",
    "\n",
    "times1 = ax[1].bar(x - width/2, TotEmis_compare['mean_score_time'], width, label='Predict')\n",
    "times2 = ax[1].bar(x + width/2, TotEmis_compare['mean_fit_time'], width, label='Fit')\n",
    "ax[1].set_ylabel('Temps(s)', fontsize = 15)\n",
    "ax[1].set_title('Comparaison des temps d\\'entrainement et prédiction', fontsize = 14)\n",
    "ax[1].set_xticks(x)\n",
    "ax[1].set_xticklabels(TotEmis_compare.index)\n",
    "ax[1].legend()\n",
    "\n",
    "plt.suptitle('Modélisations sur la variable TotalGHGEmissions', fontsize=22)\n",
    "fig.tight_layout()\n",
    "\n",
    "plt.show()"
   ]
  },
  {
   "cell_type": "markdown",
   "metadata": {},
   "source": [
    "Le modèle retenu pour les prédictions des Emissions de CO2 est le RandomForest, la MAE est quasiment egal au KNN mais sont R² est meilleur."
   ]
  },
  {
   "cell_type": "markdown",
   "metadata": {},
   "source": [
    "### Site Energy Use"
   ]
  },
  {
   "cell_type": "code",
   "execution_count": 36,
   "metadata": {
    "ExecuteTime": {
     "end_time": "2022-05-05T12:09:54.566893Z",
     "start_time": "2022-05-05T12:09:54.535635Z"
    },
    "scrolled": true
   },
   "outputs": [],
   "source": [
    "metric = ['mean_fit_time', 'mean_score_time',\n",
    "           'mean_test_neg_mean_absolute_error',\n",
    "           'mean_train_neg_mean_absolute_error']\n",
    "SEU_metric = pd.concat([pd.DataFrame(SEU_mlr_results[metric].mean(), columns=['LinearRegression']),\n",
    "           pd.DataFrame(SEU_eNet_results[metric].mean(), columns=['ElasticNet']),\n",
    "           pd.DataFrame(SEU_KNN_results[metric].mean(), columns=['KNeighbors']),\n",
    "           pd.DataFrame(SEU_rfr_results[metric].mean(), columns=['RandomForest']),\n",
    "           pd.DataFrame(SEU_MLP_results[metric].mean(), columns=['MLPRegressor'])\n",
    "          ], axis=1)\n",
    "SEU_compare = pd.DataFrame(columns=metric, \n",
    "                                     index=['LinearRegression','ElasticNet',\n",
    "                                            'KNeighbors','RandomForest',\n",
    "                                            'MLPRegressor'])\n",
    "for c in metric:\n",
    "    SEU_compare[c] = SEU_metric.loc[c]"
   ]
  },
  {
   "cell_type": "code",
   "execution_count": 37,
   "metadata": {
    "ExecuteTime": {
     "end_time": "2022-05-05T12:09:54.582921Z",
     "start_time": "2022-05-05T12:09:54.566893Z"
    }
   },
   "outputs": [
    {
     "data": {
      "text/html": [
       "<div>\n",
       "<style scoped>\n",
       "    .dataframe tbody tr th:only-of-type {\n",
       "        vertical-align: middle;\n",
       "    }\n",
       "\n",
       "    .dataframe tbody tr th {\n",
       "        vertical-align: top;\n",
       "    }\n",
       "\n",
       "    .dataframe thead th {\n",
       "        text-align: right;\n",
       "    }\n",
       "</style>\n",
       "<table border=\"1\" class=\"dataframe\">\n",
       "  <thead>\n",
       "    <tr style=\"text-align: right;\">\n",
       "      <th></th>\n",
       "      <th>mean_fit_time</th>\n",
       "      <th>mean_score_time</th>\n",
       "      <th>mean_test_neg_mean_absolute_error</th>\n",
       "      <th>mean_train_neg_mean_absolute_error</th>\n",
       "    </tr>\n",
       "  </thead>\n",
       "  <tbody>\n",
       "    <tr>\n",
       "      <th>LinearRegression</th>\n",
       "      <td>0.009374</td>\n",
       "      <td>0.002344</td>\n",
       "      <td>-4.626609e+10</td>\n",
       "      <td>-0.726801</td>\n",
       "    </tr>\n",
       "    <tr>\n",
       "      <th>ElasticNet</th>\n",
       "      <td>0.031271</td>\n",
       "      <td>0.004232</td>\n",
       "      <td>-7.585459e-01</td>\n",
       "      <td>-0.745411</td>\n",
       "    </tr>\n",
       "    <tr>\n",
       "      <th>KNeighbors</th>\n",
       "      <td>0.019854</td>\n",
       "      <td>0.196383</td>\n",
       "      <td>-5.901298e-01</td>\n",
       "      <td>-0.274002</td>\n",
       "    </tr>\n",
       "    <tr>\n",
       "      <th>RandomForest</th>\n",
       "      <td>0.500194</td>\n",
       "      <td>0.026189</td>\n",
       "      <td>-6.287675e-01</td>\n",
       "      <td>-0.470221</td>\n",
       "    </tr>\n",
       "    <tr>\n",
       "      <th>MLPRegressor</th>\n",
       "      <td>0.562690</td>\n",
       "      <td>0.029969</td>\n",
       "      <td>-6.284675e-01</td>\n",
       "      <td>-0.469901</td>\n",
       "    </tr>\n",
       "  </tbody>\n",
       "</table>\n",
       "</div>"
      ],
      "text/plain": [
       "                  mean_fit_time  mean_score_time  \\\n",
       "LinearRegression       0.009374         0.002344   \n",
       "ElasticNet             0.031271         0.004232   \n",
       "KNeighbors             0.019854         0.196383   \n",
       "RandomForest           0.500194         0.026189   \n",
       "MLPRegressor           0.562690         0.029969   \n",
       "\n",
       "                  mean_test_neg_mean_absolute_error  \\\n",
       "LinearRegression                      -4.626609e+10   \n",
       "ElasticNet                            -7.585459e-01   \n",
       "KNeighbors                            -5.901298e-01   \n",
       "RandomForest                          -6.287675e-01   \n",
       "MLPRegressor                          -6.284675e-01   \n",
       "\n",
       "                  mean_train_neg_mean_absolute_error  \n",
       "LinearRegression                           -0.726801  \n",
       "ElasticNet                                 -0.745411  \n",
       "KNeighbors                                 -0.274002  \n",
       "RandomForest                               -0.470221  \n",
       "MLPRegressor                               -0.469901  "
      ]
     },
     "execution_count": 37,
     "metadata": {},
     "output_type": "execute_result"
    }
   ],
   "source": [
    "SEU_compare"
   ]
  },
  {
   "cell_type": "markdown",
   "metadata": {},
   "source": [
    "Tout comme pour les emissions de CO2, nous eliminons lq regression lineaire qui a une MAE sur le jeu de Test vraimant hors norme"
   ]
  },
  {
   "cell_type": "code",
   "execution_count": 38,
   "metadata": {
    "ExecuteTime": {
     "end_time": "2022-05-05T12:09:54.865200Z",
     "start_time": "2022-05-05T12:09:54.582921Z"
    }
   },
   "outputs": [
    {
     "data": {
      "image/png": "[encoded data removed]",
      "text/plain": [
       "<Figure size 1296x576 with 2 Axes>"
      ]
     },
     "metadata": {
      "needs_background": "light"
     },
     "output_type": "display_data"
    }
   ],
   "source": [
    "#On élimine le modèle regression lineaire de cette représentation car hors normes\n",
    "SEU_compare = SEU_compare[SEU_compare.index != 'LinearRegression']\n",
    "x = np.arange(len(SEU_compare.index))\n",
    "width = 0.35\n",
    "\n",
    "fig, ax = plt.subplots(1,2,figsize=(18,8), sharey=False, sharex=False)\n",
    "\n",
    "scores1 = ax[0].bar(x - width/2, -1*SEU_compare['mean_test_neg_mean_absolute_error'], width, label='Test')\n",
    "scores2 = ax[0].bar(x + width/2, -1*SEU_compare['mean_train_neg_mean_absolute_error'], width, label='Train')\n",
    "ax[0].set_ylabel('Mean Absolute Error', fontsize = 15)\n",
    "ax[0].set_title('Comparaison des scores par modèle', fontsize = 14)\n",
    "ax[0].set_xticks(x)\n",
    "ax[0].set_xticklabels(SEU_compare.index, fontsize=14)\n",
    "ax[0].legend()\n",
    "\n",
    "times1 = ax[1].bar(x - width/2, SEU_compare['mean_score_time'], width, label='Predict')\n",
    "times2 = ax[1].bar(x + width/2, SEU_compare['mean_fit_time'], width, label='Fit')\n",
    "ax[1].set_ylabel('Temps(s)', fontsize = 15)\n",
    "ax[1].set_title('Comparaison des temps d\\'entrainement et prédiction', fontsize = 14)\n",
    "ax[1].set_xticks(x)\n",
    "ax[1].set_xticklabels(SEU_compare.index, fontsize=14)\n",
    "ax[1].legend()\n",
    "\n",
    "plt.suptitle('Modélisations sur la variable SiteEnergyUse', fontsize=22)\n",
    "fig.tight_layout()\n",
    "\n",
    "plt.show()"
   ]
  },
  {
   "cell_type": "markdown",
   "metadata": {},
   "source": [
    "Tout comme les emissions, le modele qui conviendrai le mieux pour l'energie utilisé est le RandomForest"
   ]
  },
  {
   "cell_type": "markdown",
   "metadata": {},
   "source": [
    "## Final TotalGHGEmissions"
   ]
  },
  {
   "cell_type": "code",
   "execution_count": 87,
   "metadata": {
    "ExecuteTime": {
     "end_time": "2022-05-05T13:49:06.242513Z",
     "start_time": "2022-05-05T13:49:06.214887Z"
    }
   },
   "outputs": [],
   "source": [
    "def metrics_model(y_true, y_pred):\n",
    "    y_true, y_pred = np.array(y_true), np.array(y_pred)\n",
    "    diff = y_true - y_pred\n",
    "    mae = np.mean(abs(diff))\n",
    "    r2 = 1-(sum(diff**2)/sum((y_true-np.mean(y_true))**2))\n",
    "    dict_metrics = {\"Métrique\":[\"MAE\", \"R²\"], \"Résultats\":[mae, r2]}\n",
    "    df_metrics = pd.DataFrame(dict_metrics)\n",
    "    return df_metrics"
   ]
  },
  {
   "cell_type": "code",
   "execution_count": 88,
   "metadata": {
    "ExecuteTime": {
     "end_time": "2022-05-05T13:49:08.231798Z",
     "start_time": "2022-05-05T13:49:08.217788Z"
    }
   },
   "outputs": [],
   "source": [
    "def plot_pred_true(y_true, y_pred, color=None, title=None):\n",
    "    X_plot = [y_true.min(), y_true.max()]\n",
    "    fig = plt.figure(figsize=(12,8))\n",
    "    plt.scatter(y_true, y_pred, color=color, alpha=.6)\n",
    "    plt.plot(X_plot, X_plot, color='r')\n",
    "    plt.xlabel(\"Valeurs réélles\")\n",
    "    plt.ylabel(\"Valeurs prédites\")\n",
    "    plt.title(\"Valeurs prédites VS valeurs réélles | Variable {}\".format(title), fontsize=18)\n",
    "    plt.show()"
   ]
  },
  {
   "cell_type": "code",
   "execution_count": 89,
   "metadata": {
    "ExecuteTime": {
     "end_time": "2022-05-05T13:49:10.825394Z",
     "start_time": "2022-05-05T13:49:10.797377Z"
    }
   },
   "outputs": [
    {
     "name": "stdout",
     "output_type": "stream",
     "text": [
      "Temps d'execution de l'agorithme : 0.014 s.\n"
     ]
    }
   ],
   "source": [
    "import time\n",
    "start_time = time.time()\n",
    "\n",
    "Emissions_pred = TotEmis_rfr_model.predict(X_test)\n",
    "\n",
    "print(\"Temps d'execution de l'agorithme : {:.2} s.\".format((time.time() - start_time)))"
   ]
  },
  {
   "cell_type": "code",
   "execution_count": 90,
   "metadata": {
    "ExecuteTime": {
     "end_time": "2022-05-05T13:49:12.927403Z",
     "start_time": "2022-05-05T13:49:12.913391Z"
    }
   },
   "outputs": [
    {
     "data": {
      "text/html": [
       "<div>\n",
       "<style scoped>\n",
       "    .dataframe tbody tr th:only-of-type {\n",
       "        vertical-align: middle;\n",
       "    }\n",
       "\n",
       "    .dataframe tbody tr th {\n",
       "        vertical-align: top;\n",
       "    }\n",
       "\n",
       "    .dataframe thead th {\n",
       "        text-align: right;\n",
       "    }\n",
       "</style>\n",
       "<table border=\"1\" class=\"dataframe\">\n",
       "  <thead>\n",
       "    <tr style=\"text-align: right;\">\n",
       "      <th></th>\n",
       "      <th>Métrique</th>\n",
       "      <th>Résultats</th>\n",
       "    </tr>\n",
       "  </thead>\n",
       "  <tbody>\n",
       "    <tr>\n",
       "      <th>0</th>\n",
       "      <td>MAE</td>\n",
       "      <td>1.272185</td>\n",
       "    </tr>\n",
       "    <tr>\n",
       "      <th>1</th>\n",
       "      <td>R²</td>\n",
       "      <td>0.489218</td>\n",
       "    </tr>\n",
       "  </tbody>\n",
       "</table>\n",
       "</div>"
      ],
      "text/plain": [
       "  Métrique  Résultats\n",
       "0      MAE   1.272185\n",
       "1       R²   0.489218"
      ]
     },
     "execution_count": 90,
     "metadata": {},
     "output_type": "execute_result"
    }
   ],
   "source": [
    "#Calcul des métriques pour les émissions de CO2\n",
    "GHGmetrics = metrics_model(Y_test['TotalGHGEmissions'],Emissions_pred)\n",
    "GHGmetrics"
   ]
  },
  {
   "cell_type": "markdown",
   "metadata": {},
   "source": [
    "Les métriques sur le jeu de données de test se sont un peu dégradées par rapport a ceux obtenues avec le modèle RandomForest."
   ]
  },
  {
   "cell_type": "markdown",
   "metadata": {},
   "source": [
    "### Vérification des valeurs prédites et réelles"
   ]
  },
  {
   "cell_type": "code",
   "execution_count": 91,
   "metadata": {
    "ExecuteTime": {
     "end_time": "2022-05-05T13:50:25.546547Z",
     "start_time": "2022-05-05T13:50:25.394514Z"
    }
   },
   "outputs": [
    {
     "data": {
      "image/png": "[encoded data removed]",
      "text/plain": [
       "<Figure size 864x576 with 1 Axes>"
      ]
     },
     "metadata": {
      "needs_background": "light"
     },
     "output_type": "display_data"
    }
   ],
   "source": [
    "#Affichage des valeurs prédites vs valeurs réélles pour émissions de CO2\n",
    "plot_pred_true(Y_test['TotalGHGEmissions'],Emissions_pred, color=\"blue\", title=\"TotalGHGEmissions\")"
   ]
  },
  {
   "cell_type": "markdown",
   "metadata": {},
   "source": [
    "Les valeurs prédites sont très éloignées de la première bissectrice"
   ]
  },
  {
   "cell_type": "code",
   "execution_count": 92,
   "metadata": {
    "ExecuteTime": {
     "end_time": "2022-05-05T13:51:22.288583Z",
     "start_time": "2022-05-05T13:51:22.280614Z"
    }
   },
   "outputs": [],
   "source": [
    "Emissions_test_results = TotEmis_rfr_results[['split0_test_neg_mean_absolute_error',\n",
    "                'split1_test_neg_mean_absolute_error',\n",
    "                'split2_test_neg_mean_absolute_error',\n",
    "                'split3_test_neg_mean_absolute_error',\n",
    "                'split4_test_neg_mean_absolute_error',\n",
    "                ]][TotEmis_rfr_results['rank_test_neg_mean_absolute_error']==1].values\n",
    "Emissions_train_results = TotEmis_rfr_results[['split0_train_neg_mean_absolute_error',\n",
    "                'split1_train_neg_mean_absolute_error',\n",
    "                'split2_train_neg_mean_absolute_error',\n",
    "                'split3_train_neg_mean_absolute_error',\n",
    "                'split4_train_neg_mean_absolute_error',\n",
    "                ]][TotEmis_rfr_results['rank_test_neg_mean_absolute_error']==1].values"
   ]
  },
  {
   "cell_type": "code",
   "execution_count": 93,
   "metadata": {
    "ExecuteTime": {
     "end_time": "2022-05-05T13:51:29.955629Z",
     "start_time": "2022-05-05T13:51:29.705493Z"
    }
   },
   "outputs": [
    {
     "data": {
      "image/png": "[encoded data removed]",
      "text/plain": [
       "<Figure size 1440x576 with 2 Axes>"
      ]
     },
     "metadata": {
      "needs_background": "light"
     },
     "output_type": "display_data"
    }
   ],
   "source": [
    "x = np.arange(0,5,1)\n",
    "fig, ax = plt.subplots(1,2, figsize=(20,8), sharey=False, sharex=False)\n",
    "ax[0].plot(range(0,5), Emissions_test_results.reshape(-1))\n",
    "ax[0].set_xticks(x)\n",
    "ax[0].set_xticklabels([\"Split\"+str(n) for n in range(0,5)])\n",
    "ax[0].set_ylabel('Neg Mean Absolute Error')\n",
    "ax[0].set_title('Scores de test')\n",
    "\n",
    "ax[1].plot(range(0,5), Emissions_train_results.reshape(-1), color='b')\n",
    "ax[1].set_xticks(x)\n",
    "ax[1].set_xticklabels([\"Split\"+str(n) for n in range(0,5)])\n",
    "ax[1].set_title('Scores de train')\n",
    "\n",
    "plt.suptitle(\"Evolution des scores à travers les Splits de Cross-validation\", fontsize=22)\n",
    "fig.tight_layout()\n",
    "\n",
    "plt.show()"
   ]
  },
  {
   "cell_type": "markdown",
   "metadata": {},
   "source": [
    "On voit ici que les scores des différents splits de cross-validation, pour les meilleurs paramètres obtenus, évoluent correctement lors de l'entrainement et des test, tout en restant dans la même échelle.\n",
    "\n",
    "Les écarts et mauvais résultats obtenus dépendent donc du faible nombre de données qui impactent le Train_Test_Split initial. Le modèle est correctement entrainé mais n'obtient pas de bon résultats sur le jeu de test "
   ]
  },
  {
   "cell_type": "markdown",
   "metadata": {},
   "source": [
    "## Final SiteEnergyUseWN"
   ]
  },
  {
   "cell_type": "code",
   "execution_count": 94,
   "metadata": {
    "ExecuteTime": {
     "end_time": "2022-05-05T13:51:48.425124Z",
     "start_time": "2022-05-05T13:51:48.388083Z"
    }
   },
   "outputs": [
    {
     "name": "stdout",
     "output_type": "stream",
     "text": [
      "Temps d'execution de l'agorithme : 0.024 s.\n"
     ]
    }
   ],
   "source": [
    "start_time = time.time()\n",
    "\n",
    "SEU_pred = SEU_rfr_model.predict(X_test)\n",
    "\n",
    "print(\"Temps d'execution de l'agorithme : {:.2} s.\".format((time.time() - start_time)))"
   ]
  },
  {
   "cell_type": "code",
   "execution_count": 95,
   "metadata": {
    "ExecuteTime": {
     "end_time": "2022-05-05T13:51:54.103002Z",
     "start_time": "2022-05-05T13:51:54.084002Z"
    }
   },
   "outputs": [
    {
     "data": {
      "text/html": [
       "<div>\n",
       "<style scoped>\n",
       "    .dataframe tbody tr th:only-of-type {\n",
       "        vertical-align: middle;\n",
       "    }\n",
       "\n",
       "    .dataframe tbody tr th {\n",
       "        vertical-align: top;\n",
       "    }\n",
       "\n",
       "    .dataframe thead th {\n",
       "        text-align: right;\n",
       "    }\n",
       "</style>\n",
       "<table border=\"1\" class=\"dataframe\">\n",
       "  <thead>\n",
       "    <tr style=\"text-align: right;\">\n",
       "      <th></th>\n",
       "      <th>Métrique</th>\n",
       "      <th>Résultats</th>\n",
       "    </tr>\n",
       "  </thead>\n",
       "  <tbody>\n",
       "    <tr>\n",
       "      <th>0</th>\n",
       "      <td>MAE</td>\n",
       "      <td>0.445837</td>\n",
       "    </tr>\n",
       "    <tr>\n",
       "      <th>1</th>\n",
       "      <td>R²</td>\n",
       "      <td>0.835516</td>\n",
       "    </tr>\n",
       "  </tbody>\n",
       "</table>\n",
       "</div>"
      ],
      "text/plain": [
       "  Métrique  Résultats\n",
       "0      MAE   0.445837\n",
       "1       R²   0.835516"
      ]
     },
     "execution_count": 95,
     "metadata": {},
     "output_type": "execute_result"
    }
   ],
   "source": [
    "#Calcul des métriques pour les émissions de CO2\n",
    "SEUmetrics = metrics_model(Y_test['SiteEnergyUseWN(kBtu)'],SEU_pred)\n",
    "SEUmetrics"
   ]
  },
  {
   "cell_type": "code",
   "execution_count": 96,
   "metadata": {
    "ExecuteTime": {
     "end_time": "2022-05-05T13:52:03.069909Z",
     "start_time": "2022-05-05T13:52:02.928876Z"
    }
   },
   "outputs": [
    {
     "data": {
      "image/png": "[encoded data removed]",
      "text/plain": [
       "<Figure size 864x576 with 1 Axes>"
      ]
     },
     "metadata": {
      "needs_background": "light"
     },
     "output_type": "display_data"
    }
   ],
   "source": [
    "#Affichage des valeurs prédites vs valeurs réélles pour émissions de CO2\n",
    "plot_pred_true(Y_test['SiteEnergyUseWN(kBtu)'],SEU_pred, color=\"#6D9C0E\", title=\"SiteEnergyUseWN(kBtu)\")"
   ]
  },
  {
   "cell_type": "markdown",
   "metadata": {},
   "source": [
    "Le même problème que pour la variable TotalGHGEmissions se pose, malgrés de meilleurs résultats"
   ]
  },
  {
   "cell_type": "markdown",
   "metadata": {},
   "source": [
    "## influence de l'energyStar"
   ]
  },
  {
   "cell_type": "code",
   "execution_count": 97,
   "metadata": {
    "ExecuteTime": {
     "end_time": "2022-05-05T13:52:52.382007Z",
     "start_time": "2022-05-05T13:52:52.366362Z"
    }
   },
   "outputs": [],
   "source": [
    "#Ajout de la variable à nos variables X\n",
    "X['energystar_score'] = result_EnergyStar\n",
    "#Ajout de la variable dans les variables numérique du preprocessor\n",
    "#result_EnergyStar.append('energystar_score')"
   ]
  },
  {
   "cell_type": "code",
   "execution_count": 98,
   "metadata": {
    "ExecuteTime": {
     "end_time": "2022-05-05T13:52:54.943264Z",
     "start_time": "2022-05-05T13:52:54.927588Z"
    }
   },
   "outputs": [],
   "source": [
    "#Filtrage des données ayant un Energy Star Score renseigné\n",
    "X = X[X['energystar_score'].isnull()==False]\n",
    "Y = Y[Y.index.isin(list(X.index))]"
   ]
  },
  {
   "cell_type": "code",
   "execution_count": 99,
   "metadata": {
    "ExecuteTime": {
     "end_time": "2022-05-05T13:53:01.099392Z",
     "start_time": "2022-05-05T13:53:00.832706Z"
    }
   },
   "outputs": [
    {
     "data": {
      "image/png": "[encoded data removed]",
      "text/plain": [
       "<Figure size 1440x576 with 2 Axes>"
      ]
     },
     "metadata": {
      "needs_background": "light"
     },
     "output_type": "display_data"
    }
   ],
   "source": [
    "fig, axes = plt.subplots(nrows=1, ncols=2, sharex=False, sharey=False, figsize=(20,8))\n",
    "sns.histplot(data=X, x='energystar_score', stat=\"density\", ax=axes[0])\n",
    "axes[0].set_title(\"Distribution\", color='#2cb7b0')\n",
    "sns.scatterplot(data=pd.concat([X,Y], axis=1), y='TotalGHGEmissions', x='energystar_score', ax=axes[1])\n",
    "axes[1].set_title(\"ENERGY STAR score en fonction de TotalGHGEmissions\", color='#2cb7b0')\n",
    "plt.suptitle(\"Analyse de la variable ENERGY STAR Score\", fontsize=22)\n",
    "plt.show()"
   ]
  },
  {
   "cell_type": "markdown",
   "metadata": {},
   "source": [
    "De nombreux batiments sont au dessus de 60 en energyStar ce qui indique que ces batiments sont bien classés( donc un faible taux), en emissions de CO2."
   ]
  },
  {
   "cell_type": "code",
   "execution_count": 52,
   "metadata": {
    "ExecuteTime": {
     "end_time": "2022-05-05T12:09:56.026018Z",
     "start_time": "2022-05-05T12:09:56.010390Z"
    }
   },
   "outputs": [
    {
     "name": "stdout",
     "output_type": "stream",
     "text": [
      "Entrainement: 1767 lignes,\n",
      "Test: 442 lignes.\n",
      "\n"
     ]
    }
   ],
   "source": [
    "X_train, X_test, Y_train, Y_test = train_test_split(X, Y, test_size=0.2, random_state=42)\n",
    "\n",
    "print(\"Entrainement: {} lignes,\\nTest: {} lignes.\\n\".format(X_train.shape[0],\n",
    "                                                            X_test.shape[0]))"
   ]
  },
  {
   "cell_type": "code",
   "execution_count": 101,
   "metadata": {
    "ExecuteTime": {
     "end_time": "2022-05-05T13:56:05.686792Z",
     "start_time": "2022-05-05T13:55:29.496818Z"
    }
   },
   "outputs": [
    {
     "name": "stdout",
     "output_type": "stream",
     "text": [
      "Meilleur score MAE : -0.629\n",
      "Meilleur Score R2 : 0.514\n",
      "Meilleurs paramètres : {'bootstrap': False, 'max_depth': 50, 'max_features': 'sqrt', 'min_samples_leaf': 1, 'min_samples_split': 2}\n",
      "Temps moyen d'entrainement : 1338.87s\n"
     ]
    }
   ],
   "source": [
    "param_rfr = {'max_features' : ['sqrt', 'log2'],\n",
    "             'max_depth': [15, 25, 50, 100], # Nombre de profondeurs maximums\n",
    "             'min_samples_split': [2, 5, 10],\n",
    "             'bootstrap' : [True, False],\n",
    "             'min_samples_leaf': [1,2,5,10]}\n",
    "\n",
    "rfr_grid_cv = Pipeline([\n",
    "    ('grid_search_rfr', GridSearchCV(\n",
    "                            RandomForestRegressor(), \n",
    "                            param_grid=param_rfr,\n",
    "                            cv=kf,\n",
    "                            scoring=('r2','neg_mean_absolute_error'),\n",
    "                            refit='neg_mean_absolute_error',\n",
    "                            return_train_score = True,\n",
    "                            n_jobs = -1))])\n",
    "\n",
    "GHG_rfr_model_eStar = rfr_grid_cv.fit(X_train, Y_train['TotalGHGEmissions'])\n",
    "GHG_rfr_results_eStar = model_scores(GHG_rfr_model_eStar, 'grid_search_rfr')"
   ]
  },
  {
   "cell_type": "code",
   "execution_count": 102,
   "metadata": {
    "ExecuteTime": {
     "end_time": "2022-05-05T13:56:22.951622Z",
     "start_time": "2022-05-05T13:56:22.889119Z"
    }
   },
   "outputs": [
    {
     "data": {
      "text/html": [
       "<div>\n",
       "<style scoped>\n",
       "    .dataframe tbody tr th:only-of-type {\n",
       "        vertical-align: middle;\n",
       "    }\n",
       "\n",
       "    .dataframe tbody tr th {\n",
       "        vertical-align: top;\n",
       "    }\n",
       "\n",
       "    .dataframe thead th {\n",
       "        text-align: right;\n",
       "    }\n",
       "</style>\n",
       "<table border=\"1\" class=\"dataframe\">\n",
       "  <thead>\n",
       "    <tr style=\"text-align: right;\">\n",
       "      <th></th>\n",
       "      <th>Métrique</th>\n",
       "      <th>Sans ENERGY STAR</th>\n",
       "      <th>Avec ENERGY STAR</th>\n",
       "    </tr>\n",
       "  </thead>\n",
       "  <tbody>\n",
       "    <tr>\n",
       "      <th>0</th>\n",
       "      <td>MAE</td>\n",
       "      <td>1.272185</td>\n",
       "      <td>0.734729</td>\n",
       "    </tr>\n",
       "    <tr>\n",
       "      <th>1</th>\n",
       "      <td>R²</td>\n",
       "      <td>0.489218</td>\n",
       "      <td>0.725581</td>\n",
       "    </tr>\n",
       "  </tbody>\n",
       "</table>\n",
       "</div>"
      ],
      "text/plain": [
       "  Métrique  Sans ENERGY STAR  Avec ENERGY STAR\n",
       "0      MAE          1.272185          0.734729\n",
       "1       R²          0.489218          0.725581"
      ]
     },
     "execution_count": 102,
     "metadata": {},
     "output_type": "execute_result"
    }
   ],
   "source": [
    "GHG_pred_star = GHG_rfr_model_eStar.predict(X_test)\n",
    "#Calcul des métriques pour les émissions de CO2\n",
    "GHGmetricsES = metrics_model(Y_test['TotalGHGEmissions'],GHG_pred_star)\n",
    "GHGmetrics = GHGmetrics.rename(columns={\"Résultats\" : \"Sans ENERGY STAR\"})\n",
    "GHGmetrics['Avec ENERGY STAR'] = GHGmetricsES['Résultats']\n",
    "GHGmetrics"
   ]
  },
  {
   "cell_type": "markdown",
   "metadata": {},
   "source": [
    "Le résultat du R² reste encore faible. On peut voir une amélioration du à l'EnergyStar, mais en raison du manque de données, il est difficile a dire si cette amlérioration est significative."
   ]
  },
  {
   "cell_type": "code",
   "execution_count": null,
   "metadata": {},
   "outputs": [],
   "source": []
  }
 ],
 "metadata": {
  "kernelspec": {
   "display_name": "Python 3",
   "language": "python",
   "name": "python3"
  },
  "language_info": {
   "codemirror_mode": {
    "name": "ipython",
    "version": 3
   },
   "file_extension": ".py",
   "mimetype": "text/x-python",
   "name": "python",
   "nbconvert_exporter": "python",
   "pygments_lexer": "ipython3",
   "version": "3.8.5"
  },
  "toc": {
   "base_numbering": 1,
   "nav_menu": {},
   "number_sections": true,
   "sideBar": true,
   "skip_h1_title": false,
   "title_cell": "Table of Contents",
   "title_sidebar": "Contents",
   "toc_cell": false,
   "toc_position": {},
   "toc_section_display": true,
   "toc_window_display": true
  },
  "varInspector": {
   "cols": {
    "lenName": 16,
    "lenType": 16,
    "lenVar": 40
   },
   "kernels_config": {
    "python": {
     "delete_cmd_postfix": "",
     "delete_cmd_prefix": "del ",
     "library": "var_list.py",
     "varRefreshCmd": "print(var_dic_list())"
    },
    "r": {
     "delete_cmd_postfix": ") ",
     "delete_cmd_prefix": "rm(",
     "library": "var_list.r",
     "varRefreshCmd": "cat(var_dic_list()) "
    }
   },
   "position": {
    "height": "819.85px",
    "left": "1547px",
    "right": "20px",
    "top": "105px",
    "width": "350px"
   },
   "types_to_exclude": [
    "module",
    "function",
    "builtin_function_or_method",
    "instance",
    "_Feature"
   ],
   "window_display": true
  }
 },
 "nbformat": 4,
 "nbformat_minor": 4
}
